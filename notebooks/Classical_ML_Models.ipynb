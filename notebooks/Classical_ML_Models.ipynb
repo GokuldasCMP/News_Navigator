{
 "cells": [
  {
   "cell_type": "code",
   "execution_count": 1,
   "id": "b244972a-6d5c-482c-b4d5-3f7bcf13ba6d",
   "metadata": {},
   "outputs": [],
   "source": [
    "# !pip install scikit-learn"
   ]
  },
  {
   "cell_type": "code",
   "execution_count": 3,
   "id": "a70bae47-b7fe-4c35-bb6d-7e142f850408",
   "metadata": {},
   "outputs": [
    {
     "data": {
      "text/html": [
       "<div>\n",
       "<style scoped>\n",
       "    .dataframe tbody tr th:only-of-type {\n",
       "        vertical-align: middle;\n",
       "    }\n",
       "\n",
       "    .dataframe tbody tr th {\n",
       "        vertical-align: top;\n",
       "    }\n",
       "\n",
       "    .dataframe thead th {\n",
       "        text-align: right;\n",
       "    }\n",
       "</style>\n",
       "<table border=\"1\" class=\"dataframe\">\n",
       "  <thead>\n",
       "    <tr style=\"text-align: right;\">\n",
       "      <th></th>\n",
       "      <th>category</th>\n",
       "      <th>encoded_category</th>\n",
       "      <th>new_text</th>\n",
       "      <th>count</th>\n",
       "      <th>tokenized_text</th>\n",
       "    </tr>\n",
       "  </thead>\n",
       "  <tbody>\n",
       "    <tr>\n",
       "      <th>0</th>\n",
       "      <td>tech</td>\n",
       "      <td>4</td>\n",
       "      <td>tv future hand viewer home theatre system plas...</td>\n",
       "      <td>370</td>\n",
       "      <td>['tv', 'future', 'hand', 'viewer', 'home', 'th...</td>\n",
       "    </tr>\n",
       "    <tr>\n",
       "      <th>1</th>\n",
       "      <td>business</td>\n",
       "      <td>0</td>\n",
       "      <td>worldcom boss leave book worldcom boss bernie ...</td>\n",
       "      <td>176</td>\n",
       "      <td>['worldcom', 'boss', 'leave', 'book', 'worldco...</td>\n",
       "    </tr>\n",
       "    <tr>\n",
       "      <th>2</th>\n",
       "      <td>sport</td>\n",
       "      <td>3</td>\n",
       "      <td>tiger wary farrell gamble leicester rush make ...</td>\n",
       "      <td>107</td>\n",
       "      <td>['tiger', 'wary', 'farrell', 'gamble', 'leices...</td>\n",
       "    </tr>\n",
       "    <tr>\n",
       "      <th>3</th>\n",
       "      <td>sport</td>\n",
       "      <td>3</td>\n",
       "      <td>yeade face newcastle fa cup premiership newcas...</td>\n",
       "      <td>257</td>\n",
       "      <td>['yeade', 'face', 'newcastle', 'fa', 'cup', 'p...</td>\n",
       "    </tr>\n",
       "    <tr>\n",
       "      <th>4</th>\n",
       "      <td>entertainment</td>\n",
       "      <td>1</td>\n",
       "      <td>ocean raids box office ocean crime caper seque...</td>\n",
       "      <td>175</td>\n",
       "      <td>['ocean', 'raids', 'box', 'office', 'ocean', '...</td>\n",
       "    </tr>\n",
       "    <tr>\n",
       "      <th>...</th>\n",
       "      <td>...</td>\n",
       "      <td>...</td>\n",
       "      <td>...</td>\n",
       "      <td>...</td>\n",
       "      <td>...</td>\n",
       "    </tr>\n",
       "    <tr>\n",
       "      <th>2113</th>\n",
       "      <td>business</td>\n",
       "      <td>0</td>\n",
       "      <td>car pull retail figure retail sale fall 03 jan...</td>\n",
       "      <td>177</td>\n",
       "      <td>['car', 'pull', 'retail', 'figure', 'retail', ...</td>\n",
       "    </tr>\n",
       "    <tr>\n",
       "      <th>2114</th>\n",
       "      <td>politics</td>\n",
       "      <td>2</td>\n",
       "      <td>kilroy unveil immigration policy exchatshow ho...</td>\n",
       "      <td>98</td>\n",
       "      <td>['kilroy', 'unveil', 'immigration', 'policy', ...</td>\n",
       "    </tr>\n",
       "    <tr>\n",
       "      <th>2115</th>\n",
       "      <td>entertainment</td>\n",
       "      <td>1</td>\n",
       "      <td>rem announce new glasgow concert band rem anno...</td>\n",
       "      <td>168</td>\n",
       "      <td>['rem', 'announce', 'new', 'glasgow', 'concert...</td>\n",
       "    </tr>\n",
       "    <tr>\n",
       "      <th>2116</th>\n",
       "      <td>politics</td>\n",
       "      <td>2</td>\n",
       "      <td>political squabble snowball commonplace argue ...</td>\n",
       "      <td>371</td>\n",
       "      <td>['political', 'squabble', 'snowball', 'commonp...</td>\n",
       "    </tr>\n",
       "    <tr>\n",
       "      <th>2117</th>\n",
       "      <td>sport</td>\n",
       "      <td>3</td>\n",
       "      <td>souness delight euro progress boss graeme soun...</td>\n",
       "      <td>100</td>\n",
       "      <td>['souness', 'delight', 'euro', 'progress', 'bo...</td>\n",
       "    </tr>\n",
       "  </tbody>\n",
       "</table>\n",
       "<p>2118 rows × 5 columns</p>\n",
       "</div>"
      ],
      "text/plain": [
       "           category  encoded_category  \\\n",
       "0              tech                 4   \n",
       "1          business                 0   \n",
       "2             sport                 3   \n",
       "3             sport                 3   \n",
       "4     entertainment                 1   \n",
       "...             ...               ...   \n",
       "2113       business                 0   \n",
       "2114       politics                 2   \n",
       "2115  entertainment                 1   \n",
       "2116       politics                 2   \n",
       "2117          sport                 3   \n",
       "\n",
       "                                               new_text  count  \\\n",
       "0     tv future hand viewer home theatre system plas...    370   \n",
       "1     worldcom boss leave book worldcom boss bernie ...    176   \n",
       "2     tiger wary farrell gamble leicester rush make ...    107   \n",
       "3     yeade face newcastle fa cup premiership newcas...    257   \n",
       "4     ocean raids box office ocean crime caper seque...    175   \n",
       "...                                                 ...    ...   \n",
       "2113  car pull retail figure retail sale fall 03 jan...    177   \n",
       "2114  kilroy unveil immigration policy exchatshow ho...     98   \n",
       "2115  rem announce new glasgow concert band rem anno...    168   \n",
       "2116  political squabble snowball commonplace argue ...    371   \n",
       "2117  souness delight euro progress boss graeme soun...    100   \n",
       "\n",
       "                                         tokenized_text  \n",
       "0     ['tv', 'future', 'hand', 'viewer', 'home', 'th...  \n",
       "1     ['worldcom', 'boss', 'leave', 'book', 'worldco...  \n",
       "2     ['tiger', 'wary', 'farrell', 'gamble', 'leices...  \n",
       "3     ['yeade', 'face', 'newcastle', 'fa', 'cup', 'p...  \n",
       "4     ['ocean', 'raids', 'box', 'office', 'ocean', '...  \n",
       "...                                                 ...  \n",
       "2113  ['car', 'pull', 'retail', 'figure', 'retail', ...  \n",
       "2114  ['kilroy', 'unveil', 'immigration', 'policy', ...  \n",
       "2115  ['rem', 'announce', 'new', 'glasgow', 'concert...  \n",
       "2116  ['political', 'squabble', 'snowball', 'commonp...  \n",
       "2117  ['souness', 'delight', 'euro', 'progress', 'bo...  \n",
       "\n",
       "[2118 rows x 5 columns]"
      ]
     },
     "execution_count": 3,
     "metadata": {},
     "output_type": "execute_result"
    }
   ],
   "source": [
    "import pandas as pd\n",
    "processed_data=pd.read_csv('processed_data.csv')\n",
    "processed_data"
   ]
  },
  {
   "cell_type": "markdown",
   "id": "3b0521c6-d329-4044-b8fb-4a0f265453af",
   "metadata": {},
   "source": [
    "## Imported required libraries for a text classification pipeline"
   ]
  },
  {
   "cell_type": "code",
   "execution_count": 4,
   "id": "1ac95026-a2dc-4bde-9538-009c8be61daa",
   "metadata": {},
   "outputs": [],
   "source": [
    "# This library provides tools for splitting your dataset into training and testing sets.\n",
    "# The train_test_split function is commonly used for this purpose.\n",
    "\n",
    "from sklearn.model_selection import train_test_split"
   ]
  },
  {
   "cell_type": "code",
   "execution_count": 5,
   "id": "6d0ac7a2-434d-4d94-92b3-5f6e717a016c",
   "metadata": {},
   "outputs": [],
   "source": [
    "##  This library contains tools for feature extraction from text data. In your case, you're using TfidfVectorizer, \n",
    "#   which converts a collection of raw text documents to a matrix of TF-IDF features\n",
    "\n",
    "from sklearn.feature_extraction.text import TfidfVectorizer"
   ]
  },
  {
   "cell_type": "code",
   "execution_count": 6,
   "id": "0ac400fe-b50f-48db-aa72-e9fee1233b8a",
   "metadata": {},
   "outputs": [],
   "source": [
    "# This library provides various metrics for evaluating the performance of machine learning models.\n",
    "\n",
    "from sklearn.metrics import accuracy_score, classification_report,precision_score,recall_score,confusion_matrix"
   ]
  },
  {
   "cell_type": "code",
   "execution_count": 8,
   "id": "ec78e264-7181-4ca3-bd4d-814e8bc3c9e7",
   "metadata": {},
   "outputs": [],
   "source": [
    "#This library provides a way to streamline a lot of routine processes by putting together a sequence of data processing steps \n",
    "# and a final estimator (model). \n",
    "\n",
    "from sklearn.pipeline import Pipeline"
   ]
  },
  {
   "cell_type": "code",
   "execution_count": 9,
   "id": "733cc54b-9bc4-4e0a-b771-ca316e8290d9",
   "metadata": {},
   "outputs": [],
   "source": [
    "# Assigned 'tokenized_text' column to X and 'category_encoded' column to y\n",
    "\n",
    "X=processed_data['tokenized_text']\n",
    "y=processed_data['encoded_category']"
   ]
  },
  {
   "cell_type": "code",
   "execution_count": 10,
   "id": "bf051123-ff8f-4d5a-8939-9c4b1efca7d1",
   "metadata": {},
   "outputs": [],
   "source": [
    "# Split the data into training and testing sets\n",
    "\n",
    "X_train, X_test, y_train, y_test = train_test_split(X, y, test_size=0.25)"
   ]
  },
  {
   "cell_type": "markdown",
   "id": "3e6b3dbe-9a40-4e2a-a695-1d8b913bf413",
   "metadata": {},
   "source": [
    "## LogisticRegression"
   ]
  },
  {
   "cell_type": "code",
   "execution_count": 11,
   "id": "8686d9c0-70e3-4808-aa7b-655cd7092e28",
   "metadata": {},
   "outputs": [],
   "source": [
    "# Imported Logistic Regression from scikit-learn's linear_model\n",
    "\n",
    "from sklearn.linear_model import LogisticRegression"
   ]
  },
  {
   "cell_type": "code",
   "execution_count": 12,
   "id": "75a254ae-a899-4520-803a-382a877e32e2",
   "metadata": {},
   "outputs": [],
   "source": [
    "#Combine the vectorizer and the model into a pipeline\n",
    "\n",
    "pipeline = Pipeline([\n",
    "    ('tfidf', TfidfVectorizer()),\n",
    "    ('lr', LogisticRegression(max_iter=500,random_state=0,C=1,fit_intercept=True))\n",
    "])\n"
   ]
  },
  {
   "cell_type": "code",
   "execution_count": 13,
   "id": "1848340b-0077-4884-98d5-6a30a3d3cb48",
   "metadata": {},
   "outputs": [
    {
     "data": {
      "text/html": [
       "<style>#sk-container-id-1 {color: black;}#sk-container-id-1 pre{padding: 0;}#sk-container-id-1 div.sk-toggleable {background-color: white;}#sk-container-id-1 label.sk-toggleable__label {cursor: pointer;display: block;width: 100%;margin-bottom: 0;padding: 0.3em;box-sizing: border-box;text-align: center;}#sk-container-id-1 label.sk-toggleable__label-arrow:before {content: \"▸\";float: left;margin-right: 0.25em;color: #696969;}#sk-container-id-1 label.sk-toggleable__label-arrow:hover:before {color: black;}#sk-container-id-1 div.sk-estimator:hover label.sk-toggleable__label-arrow:before {color: black;}#sk-container-id-1 div.sk-toggleable__content {max-height: 0;max-width: 0;overflow: hidden;text-align: left;background-color: #f0f8ff;}#sk-container-id-1 div.sk-toggleable__content pre {margin: 0.2em;color: black;border-radius: 0.25em;background-color: #f0f8ff;}#sk-container-id-1 input.sk-toggleable__control:checked~div.sk-toggleable__content {max-height: 200px;max-width: 100%;overflow: auto;}#sk-container-id-1 input.sk-toggleable__control:checked~label.sk-toggleable__label-arrow:before {content: \"▾\";}#sk-container-id-1 div.sk-estimator input.sk-toggleable__control:checked~label.sk-toggleable__label {background-color: #d4ebff;}#sk-container-id-1 div.sk-label input.sk-toggleable__control:checked~label.sk-toggleable__label {background-color: #d4ebff;}#sk-container-id-1 input.sk-hidden--visually {border: 0;clip: rect(1px 1px 1px 1px);clip: rect(1px, 1px, 1px, 1px);height: 1px;margin: -1px;overflow: hidden;padding: 0;position: absolute;width: 1px;}#sk-container-id-1 div.sk-estimator {font-family: monospace;background-color: #f0f8ff;border: 1px dotted black;border-radius: 0.25em;box-sizing: border-box;margin-bottom: 0.5em;}#sk-container-id-1 div.sk-estimator:hover {background-color: #d4ebff;}#sk-container-id-1 div.sk-parallel-item::after {content: \"\";width: 100%;border-bottom: 1px solid gray;flex-grow: 1;}#sk-container-id-1 div.sk-label:hover label.sk-toggleable__label {background-color: #d4ebff;}#sk-container-id-1 div.sk-serial::before {content: \"\";position: absolute;border-left: 1px solid gray;box-sizing: border-box;top: 0;bottom: 0;left: 50%;z-index: 0;}#sk-container-id-1 div.sk-serial {display: flex;flex-direction: column;align-items: center;background-color: white;padding-right: 0.2em;padding-left: 0.2em;position: relative;}#sk-container-id-1 div.sk-item {position: relative;z-index: 1;}#sk-container-id-1 div.sk-parallel {display: flex;align-items: stretch;justify-content: center;background-color: white;position: relative;}#sk-container-id-1 div.sk-item::before, #sk-container-id-1 div.sk-parallel-item::before {content: \"\";position: absolute;border-left: 1px solid gray;box-sizing: border-box;top: 0;bottom: 0;left: 50%;z-index: -1;}#sk-container-id-1 div.sk-parallel-item {display: flex;flex-direction: column;z-index: 1;position: relative;background-color: white;}#sk-container-id-1 div.sk-parallel-item:first-child::after {align-self: flex-end;width: 50%;}#sk-container-id-1 div.sk-parallel-item:last-child::after {align-self: flex-start;width: 50%;}#sk-container-id-1 div.sk-parallel-item:only-child::after {width: 0;}#sk-container-id-1 div.sk-dashed-wrapped {border: 1px dashed gray;margin: 0 0.4em 0.5em 0.4em;box-sizing: border-box;padding-bottom: 0.4em;background-color: white;}#sk-container-id-1 div.sk-label label {font-family: monospace;font-weight: bold;display: inline-block;line-height: 1.2em;}#sk-container-id-1 div.sk-label-container {text-align: center;}#sk-container-id-1 div.sk-container {/* jupyter's `normalize.less` sets `[hidden] { display: none; }` but bootstrap.min.css set `[hidden] { display: none !important; }` so we also need the `!important` here to be able to override the default hidden behavior on the sphinx rendered scikit-learn.org. See: https://github.com/scikit-learn/scikit-learn/issues/21755 */display: inline-block !important;position: relative;}#sk-container-id-1 div.sk-text-repr-fallback {display: none;}</style><div id=\"sk-container-id-1\" class=\"sk-top-container\"><div class=\"sk-text-repr-fallback\"><pre>Pipeline(steps=[(&#x27;tfidf&#x27;, TfidfVectorizer()),\n",
       "                (&#x27;lr&#x27;, LogisticRegression(C=1, max_iter=500, random_state=0))])</pre><b>In a Jupyter environment, please rerun this cell to show the HTML representation or trust the notebook. <br />On GitHub, the HTML representation is unable to render, please try loading this page with nbviewer.org.</b></div><div class=\"sk-container\" hidden><div class=\"sk-item sk-dashed-wrapped\"><div class=\"sk-label-container\"><div class=\"sk-label sk-toggleable\"><input class=\"sk-toggleable__control sk-hidden--visually\" id=\"sk-estimator-id-1\" type=\"checkbox\" ><label for=\"sk-estimator-id-1\" class=\"sk-toggleable__label sk-toggleable__label-arrow\">Pipeline</label><div class=\"sk-toggleable__content\"><pre>Pipeline(steps=[(&#x27;tfidf&#x27;, TfidfVectorizer()),\n",
       "                (&#x27;lr&#x27;, LogisticRegression(C=1, max_iter=500, random_state=0))])</pre></div></div></div><div class=\"sk-serial\"><div class=\"sk-item\"><div class=\"sk-estimator sk-toggleable\"><input class=\"sk-toggleable__control sk-hidden--visually\" id=\"sk-estimator-id-2\" type=\"checkbox\" ><label for=\"sk-estimator-id-2\" class=\"sk-toggleable__label sk-toggleable__label-arrow\">TfidfVectorizer</label><div class=\"sk-toggleable__content\"><pre>TfidfVectorizer()</pre></div></div></div><div class=\"sk-item\"><div class=\"sk-estimator sk-toggleable\"><input class=\"sk-toggleable__control sk-hidden--visually\" id=\"sk-estimator-id-3\" type=\"checkbox\" ><label for=\"sk-estimator-id-3\" class=\"sk-toggleable__label sk-toggleable__label-arrow\">LogisticRegression</label><div class=\"sk-toggleable__content\"><pre>LogisticRegression(C=1, max_iter=500, random_state=0)</pre></div></div></div></div></div></div></div>"
      ],
      "text/plain": [
       "Pipeline(steps=[('tfidf', TfidfVectorizer()),\n",
       "                ('lr', LogisticRegression(C=1, max_iter=500, random_state=0))])"
      ]
     },
     "execution_count": 13,
     "metadata": {},
     "output_type": "execute_result"
    }
   ],
   "source": [
    "# Fitted the text classification pipeline to the training data\n",
    "\n",
    "pipeline.fit(X_train, y_train)"
   ]
  },
  {
   "cell_type": "code",
   "execution_count": 14,
   "id": "022270ec-6cc7-4b29-8da7-ff4ce22f5324",
   "metadata": {},
   "outputs": [
    {
     "data": {
      "text/plain": [
       "array([0, 0, 3, 0, 0, 2, 0, 0, 0, 3, 3, 4, 0, 2, 3, 3, 3, 0, 3, 0, 4, 4,\n",
       "       2, 1, 0, 0, 0, 0, 0, 3, 2, 4, 2, 0, 3, 3, 2, 3, 2, 2, 3, 3, 2, 1,\n",
       "       3, 3, 1, 0, 2, 3, 0, 4, 0, 3, 3, 3, 4, 1, 2, 2, 1, 2, 3, 1, 1, 4,\n",
       "       4, 1, 2, 4, 0, 4, 3, 1, 3, 1, 4, 0, 4, 3, 3, 4, 2, 2, 0, 1, 0, 3,\n",
       "       4, 2, 4, 0, 3, 0, 3, 0, 2, 0, 3, 3, 0, 3, 4, 0, 1, 0, 4, 0, 2, 1,\n",
       "       3, 3, 0, 3, 2, 0, 3, 1, 4, 3, 0, 2, 4, 4, 1, 3, 2, 3, 0, 3, 2, 1,\n",
       "       2, 2, 0, 4, 0, 1, 4, 2, 3, 3, 3, 3, 1, 3, 0, 1, 0, 1, 3, 0, 2, 4,\n",
       "       3, 4, 0, 0, 0, 1, 4, 0, 0, 1, 0, 2, 4, 3, 2, 4, 1, 1, 3, 2, 1, 1,\n",
       "       3, 2, 3, 3, 4, 1, 3, 2, 2, 3, 1, 0, 2, 0, 1, 1, 4, 1, 2, 1, 4, 3,\n",
       "       1, 3, 4, 0, 4, 1, 0, 2, 0, 4, 1, 0, 4, 1, 1, 3, 3, 2, 0, 3, 4, 0,\n",
       "       1, 0, 3, 0, 4, 2, 0, 3, 1, 3, 0, 4, 3, 2, 2, 1, 4, 3, 3, 0, 4, 4,\n",
       "       3, 2, 2, 0, 1, 0, 2, 4, 1, 0, 1, 2, 0, 0, 1, 0, 3, 0, 4, 4, 1, 3,\n",
       "       3, 0, 4, 1, 2, 0, 3, 2, 0, 0, 0, 1, 4, 0, 2, 4, 1, 3, 0, 1, 0, 4,\n",
       "       4, 3, 2, 2, 2, 2, 1, 0, 1, 2, 0, 3, 1, 4, 1, 0, 0, 4, 3, 3, 3, 1,\n",
       "       3, 4, 2, 3, 1, 1, 0, 4, 4, 3, 0, 3, 0, 0, 2, 0, 4, 0, 1, 2, 0, 0,\n",
       "       4, 3, 0, 0, 0, 0, 2, 2, 3, 3, 0, 4, 4, 2, 2, 2, 2, 4, 0, 4, 4, 0,\n",
       "       2, 3, 3, 2, 1, 1, 2, 4, 1, 2, 0, 3, 2, 3, 3, 0, 2, 3, 4, 3, 0, 3,\n",
       "       0, 2, 3, 4, 0, 3, 4, 3, 1, 1, 0, 3, 1, 1, 1, 0, 0, 1, 0, 1, 2, 1,\n",
       "       3, 0, 4, 2, 3, 3, 3, 0, 3, 2, 4, 3, 2, 4, 1, 0, 2, 4, 4, 0, 1, 4,\n",
       "       3, 3, 1, 4, 0, 2, 3, 2, 4, 2, 3, 1, 3, 2, 3, 3, 1, 0, 4, 4, 2, 2,\n",
       "       2, 0, 4, 3, 4, 2, 3, 0, 1, 1, 0, 3, 3, 0, 0, 0, 3, 1, 3, 2, 3, 2,\n",
       "       0, 1, 2, 2, 0, 0, 0, 3, 0, 3, 3, 4, 4, 3, 3, 4, 2, 1, 3, 3, 2, 2,\n",
       "       0, 1, 1, 4, 1, 4, 0, 3, 3, 1, 2, 4, 0, 4, 3, 3, 2, 0, 1, 3, 4, 0,\n",
       "       1, 2, 0, 2, 0, 3, 0, 3, 3, 1, 4, 2, 3, 1, 3, 3, 3, 3, 3, 2, 4, 3,\n",
       "       3, 0], dtype=int64)"
      ]
     },
     "execution_count": 14,
     "metadata": {},
     "output_type": "execute_result"
    }
   ],
   "source": [
    "# Generated predictions on the test data using the text classification pipeline\n",
    "\n",
    "LR_predictions = pipeline.predict(X_test)\n",
    "LR_predictions"
   ]
  },
  {
   "cell_type": "code",
   "execution_count": 15,
   "id": "93be4e97-449a-4617-881a-abc65d2eedd2",
   "metadata": {},
   "outputs": [
    {
     "data": {
      "text/plain": [
       "0.9660377358490566"
      ]
     },
     "execution_count": 15,
     "metadata": {},
     "output_type": "execute_result"
    }
   ],
   "source": [
    "# Calculated accuracy using the predicted labels and actual labels from the test data\n",
    "\n",
    "accuracy_score(y_test,LR_predictions)"
   ]
  },
  {
   "cell_type": "code",
   "execution_count": 16,
   "id": "c9d487dc-50ce-46ef-b253-72a103945a31",
   "metadata": {},
   "outputs": [
    {
     "data": {
      "text/plain": [
       "0.9669808690732602"
      ]
     },
     "execution_count": 16,
     "metadata": {},
     "output_type": "execute_result"
    }
   ],
   "source": [
    "precision_score(y_test,LR_predictions,average='weighted')"
   ]
  },
  {
   "cell_type": "code",
   "execution_count": 17,
   "id": "8cd541e7-c91f-476b-b3fc-d6f2740616c3",
   "metadata": {},
   "outputs": [
    {
     "data": {
      "text/plain": [
       "0.9660377358490566"
      ]
     },
     "execution_count": 17,
     "metadata": {},
     "output_type": "execute_result"
    }
   ],
   "source": [
    "recall_score(y_test,LR_predictions,average='weighted')"
   ]
  },
  {
   "cell_type": "code",
   "execution_count": 18,
   "id": "8afb02cd-4741-4a7b-9ea9-b9bd979ada1b",
   "metadata": {},
   "outputs": [
    {
     "name": "stdout",
     "output_type": "stream",
     "text": [
      "              precision    recall  f1-score   support\n",
      "\n",
      "           0       0.93      0.98      0.96       121\n",
      "           1       1.00      0.96      0.98        90\n",
      "           2       0.98      0.93      0.95        99\n",
      "           3       0.96      1.00      0.98       131\n",
      "           4       0.98      0.94      0.96        89\n",
      "\n",
      "    accuracy                           0.97       530\n",
      "   macro avg       0.97      0.96      0.97       530\n",
      "weighted avg       0.97      0.97      0.97       530\n",
      "\n"
     ]
    }
   ],
   "source": [
    "print(classification_report(y_test,LR_predictions))"
   ]
  },
  {
   "cell_type": "markdown",
   "id": "7b0762dd-ccf5-4e69-92d8-1aa23d35c96a",
   "metadata": {},
   "source": [
    "## DecisionTreeClassifier"
   ]
  },
  {
   "cell_type": "code",
   "execution_count": 20,
   "id": "2c03e9ff-59b6-4889-b833-ac52481135af",
   "metadata": {},
   "outputs": [],
   "source": [
    "# Imported Decision Tree Classifier from scikit-learn's tree\n",
    "\n",
    "from sklearn.tree import DecisionTreeClassifier"
   ]
  },
  {
   "cell_type": "code",
   "execution_count": 21,
   "id": "9632c9f9-d1c7-4876-8cc6-8661c8319399",
   "metadata": {},
   "outputs": [],
   "source": [
    "#Combine the vectorizer and the model into a pipeline\n",
    "\n",
    "pipeline = Pipeline([\n",
    "    ('tfidf', TfidfVectorizer()),\n",
    "    ('dt', DecisionTreeClassifier())\n",
    "])"
   ]
  },
  {
   "cell_type": "code",
   "execution_count": 22,
   "id": "24ae5a87-45d7-4825-aa81-08883cf89e4f",
   "metadata": {},
   "outputs": [
    {
     "data": {
      "text/html": [
       "<style>#sk-container-id-2 {color: black;}#sk-container-id-2 pre{padding: 0;}#sk-container-id-2 div.sk-toggleable {background-color: white;}#sk-container-id-2 label.sk-toggleable__label {cursor: pointer;display: block;width: 100%;margin-bottom: 0;padding: 0.3em;box-sizing: border-box;text-align: center;}#sk-container-id-2 label.sk-toggleable__label-arrow:before {content: \"▸\";float: left;margin-right: 0.25em;color: #696969;}#sk-container-id-2 label.sk-toggleable__label-arrow:hover:before {color: black;}#sk-container-id-2 div.sk-estimator:hover label.sk-toggleable__label-arrow:before {color: black;}#sk-container-id-2 div.sk-toggleable__content {max-height: 0;max-width: 0;overflow: hidden;text-align: left;background-color: #f0f8ff;}#sk-container-id-2 div.sk-toggleable__content pre {margin: 0.2em;color: black;border-radius: 0.25em;background-color: #f0f8ff;}#sk-container-id-2 input.sk-toggleable__control:checked~div.sk-toggleable__content {max-height: 200px;max-width: 100%;overflow: auto;}#sk-container-id-2 input.sk-toggleable__control:checked~label.sk-toggleable__label-arrow:before {content: \"▾\";}#sk-container-id-2 div.sk-estimator input.sk-toggleable__control:checked~label.sk-toggleable__label {background-color: #d4ebff;}#sk-container-id-2 div.sk-label input.sk-toggleable__control:checked~label.sk-toggleable__label {background-color: #d4ebff;}#sk-container-id-2 input.sk-hidden--visually {border: 0;clip: rect(1px 1px 1px 1px);clip: rect(1px, 1px, 1px, 1px);height: 1px;margin: -1px;overflow: hidden;padding: 0;position: absolute;width: 1px;}#sk-container-id-2 div.sk-estimator {font-family: monospace;background-color: #f0f8ff;border: 1px dotted black;border-radius: 0.25em;box-sizing: border-box;margin-bottom: 0.5em;}#sk-container-id-2 div.sk-estimator:hover {background-color: #d4ebff;}#sk-container-id-2 div.sk-parallel-item::after {content: \"\";width: 100%;border-bottom: 1px solid gray;flex-grow: 1;}#sk-container-id-2 div.sk-label:hover label.sk-toggleable__label {background-color: #d4ebff;}#sk-container-id-2 div.sk-serial::before {content: \"\";position: absolute;border-left: 1px solid gray;box-sizing: border-box;top: 0;bottom: 0;left: 50%;z-index: 0;}#sk-container-id-2 div.sk-serial {display: flex;flex-direction: column;align-items: center;background-color: white;padding-right: 0.2em;padding-left: 0.2em;position: relative;}#sk-container-id-2 div.sk-item {position: relative;z-index: 1;}#sk-container-id-2 div.sk-parallel {display: flex;align-items: stretch;justify-content: center;background-color: white;position: relative;}#sk-container-id-2 div.sk-item::before, #sk-container-id-2 div.sk-parallel-item::before {content: \"\";position: absolute;border-left: 1px solid gray;box-sizing: border-box;top: 0;bottom: 0;left: 50%;z-index: -1;}#sk-container-id-2 div.sk-parallel-item {display: flex;flex-direction: column;z-index: 1;position: relative;background-color: white;}#sk-container-id-2 div.sk-parallel-item:first-child::after {align-self: flex-end;width: 50%;}#sk-container-id-2 div.sk-parallel-item:last-child::after {align-self: flex-start;width: 50%;}#sk-container-id-2 div.sk-parallel-item:only-child::after {width: 0;}#sk-container-id-2 div.sk-dashed-wrapped {border: 1px dashed gray;margin: 0 0.4em 0.5em 0.4em;box-sizing: border-box;padding-bottom: 0.4em;background-color: white;}#sk-container-id-2 div.sk-label label {font-family: monospace;font-weight: bold;display: inline-block;line-height: 1.2em;}#sk-container-id-2 div.sk-label-container {text-align: center;}#sk-container-id-2 div.sk-container {/* jupyter's `normalize.less` sets `[hidden] { display: none; }` but bootstrap.min.css set `[hidden] { display: none !important; }` so we also need the `!important` here to be able to override the default hidden behavior on the sphinx rendered scikit-learn.org. See: https://github.com/scikit-learn/scikit-learn/issues/21755 */display: inline-block !important;position: relative;}#sk-container-id-2 div.sk-text-repr-fallback {display: none;}</style><div id=\"sk-container-id-2\" class=\"sk-top-container\"><div class=\"sk-text-repr-fallback\"><pre>Pipeline(steps=[(&#x27;tfidf&#x27;, TfidfVectorizer()), (&#x27;dt&#x27;, DecisionTreeClassifier())])</pre><b>In a Jupyter environment, please rerun this cell to show the HTML representation or trust the notebook. <br />On GitHub, the HTML representation is unable to render, please try loading this page with nbviewer.org.</b></div><div class=\"sk-container\" hidden><div class=\"sk-item sk-dashed-wrapped\"><div class=\"sk-label-container\"><div class=\"sk-label sk-toggleable\"><input class=\"sk-toggleable__control sk-hidden--visually\" id=\"sk-estimator-id-4\" type=\"checkbox\" ><label for=\"sk-estimator-id-4\" class=\"sk-toggleable__label sk-toggleable__label-arrow\">Pipeline</label><div class=\"sk-toggleable__content\"><pre>Pipeline(steps=[(&#x27;tfidf&#x27;, TfidfVectorizer()), (&#x27;dt&#x27;, DecisionTreeClassifier())])</pre></div></div></div><div class=\"sk-serial\"><div class=\"sk-item\"><div class=\"sk-estimator sk-toggleable\"><input class=\"sk-toggleable__control sk-hidden--visually\" id=\"sk-estimator-id-5\" type=\"checkbox\" ><label for=\"sk-estimator-id-5\" class=\"sk-toggleable__label sk-toggleable__label-arrow\">TfidfVectorizer</label><div class=\"sk-toggleable__content\"><pre>TfidfVectorizer()</pre></div></div></div><div class=\"sk-item\"><div class=\"sk-estimator sk-toggleable\"><input class=\"sk-toggleable__control sk-hidden--visually\" id=\"sk-estimator-id-6\" type=\"checkbox\" ><label for=\"sk-estimator-id-6\" class=\"sk-toggleable__label sk-toggleable__label-arrow\">DecisionTreeClassifier</label><div class=\"sk-toggleable__content\"><pre>DecisionTreeClassifier()</pre></div></div></div></div></div></div></div>"
      ],
      "text/plain": [
       "Pipeline(steps=[('tfidf', TfidfVectorizer()), ('dt', DecisionTreeClassifier())])"
      ]
     },
     "execution_count": 22,
     "metadata": {},
     "output_type": "execute_result"
    }
   ],
   "source": [
    "# Fitted the text classification pipeline to the training data\n",
    "\n",
    "pipeline.fit(X_train, y_train)"
   ]
  },
  {
   "cell_type": "code",
   "execution_count": 23,
   "id": "3e1556d9-a5a8-454f-b6e6-da240f8fedce",
   "metadata": {},
   "outputs": [
    {
     "data": {
      "text/plain": [
       "array([0, 3, 3, 0, 3, 0, 0, 0, 0, 3, 3, 4, 0, 1, 1, 3, 3, 0, 1, 3, 4, 4,\n",
       "       2, 1, 0, 0, 0, 0, 0, 3, 1, 4, 2, 2, 3, 3, 2, 3, 2, 2, 3, 3, 0, 1,\n",
       "       3, 0, 3, 0, 2, 3, 0, 4, 0, 1, 3, 3, 4, 1, 0, 2, 1, 2, 3, 1, 1, 4,\n",
       "       2, 1, 0, 4, 0, 0, 3, 1, 3, 1, 4, 0, 2, 1, 1, 4, 2, 2, 0, 1, 0, 3,\n",
       "       1, 2, 2, 4, 3, 0, 3, 2, 2, 0, 3, 4, 0, 3, 4, 0, 1, 0, 4, 0, 2, 1,\n",
       "       3, 3, 0, 3, 2, 0, 3, 1, 4, 3, 0, 2, 4, 4, 1, 3, 2, 3, 0, 3, 2, 2,\n",
       "       2, 1, 0, 4, 0, 1, 4, 0, 3, 1, 3, 4, 4, 3, 0, 1, 0, 1, 3, 0, 2, 4,\n",
       "       3, 4, 0, 3, 0, 1, 4, 0, 0, 1, 0, 2, 4, 3, 1, 4, 1, 1, 2, 2, 0, 1,\n",
       "       3, 0, 3, 3, 4, 1, 1, 2, 2, 3, 1, 0, 2, 0, 1, 1, 4, 1, 2, 4, 4, 3,\n",
       "       1, 3, 4, 2, 4, 1, 0, 2, 0, 4, 1, 1, 4, 1, 1, 3, 3, 2, 0, 3, 4, 0,\n",
       "       1, 0, 3, 0, 4, 2, 0, 3, 4, 3, 0, 4, 3, 1, 2, 2, 4, 3, 3, 0, 1, 4,\n",
       "       3, 2, 0, 0, 1, 0, 0, 4, 0, 0, 1, 2, 0, 0, 1, 0, 3, 0, 4, 4, 1, 3,\n",
       "       3, 0, 4, 1, 2, 0, 3, 2, 0, 1, 4, 1, 4, 0, 2, 2, 1, 0, 4, 1, 0, 4,\n",
       "       4, 3, 2, 2, 2, 2, 1, 0, 1, 2, 0, 3, 1, 4, 1, 0, 0, 4, 3, 0, 1, 3,\n",
       "       3, 0, 2, 0, 4, 1, 2, 4, 4, 3, 0, 3, 0, 1, 2, 0, 4, 0, 0, 2, 2, 0,\n",
       "       4, 3, 0, 4, 0, 0, 2, 4, 3, 3, 0, 4, 3, 2, 2, 2, 2, 4, 0, 4, 4, 0,\n",
       "       0, 1, 3, 2, 0, 4, 0, 1, 1, 2, 0, 1, 2, 1, 3, 0, 2, 3, 4, 3, 0, 3,\n",
       "       0, 2, 3, 3, 4, 3, 0, 3, 1, 1, 0, 3, 1, 1, 1, 4, 0, 1, 0, 1, 2, 1,\n",
       "       3, 0, 4, 2, 3, 3, 3, 0, 3, 2, 4, 3, 2, 0, 1, 0, 0, 4, 2, 0, 0, 4,\n",
       "       4, 3, 1, 4, 0, 2, 3, 2, 4, 2, 3, 1, 3, 2, 3, 3, 1, 2, 2, 4, 0, 2,\n",
       "       2, 0, 4, 3, 4, 0, 3, 2, 1, 1, 3, 3, 3, 0, 0, 0, 3, 3, 4, 2, 0, 2,\n",
       "       0, 1, 0, 0, 0, 0, 2, 3, 0, 3, 3, 4, 1, 2, 3, 4, 2, 1, 3, 3, 2, 1,\n",
       "       0, 1, 1, 4, 2, 4, 0, 3, 3, 0, 2, 4, 0, 0, 3, 3, 2, 1, 0, 3, 4, 0,\n",
       "       1, 2, 0, 2, 0, 3, 0, 4, 3, 2, 4, 2, 3, 2, 3, 3, 3, 3, 3, 2, 2, 3,\n",
       "       3, 0], dtype=int64)"
      ]
     },
     "execution_count": 23,
     "metadata": {},
     "output_type": "execute_result"
    }
   ],
   "source": [
    "# Generated predictions on the test data using the text classification pipeline\n",
    "\n",
    "DT_predictions = pipeline.predict(X_test)\n",
    "DT_predictions\n"
   ]
  },
  {
   "cell_type": "code",
   "execution_count": 24,
   "id": "14dc8a7b-669a-4ab6-9c40-429fce727f2c",
   "metadata": {},
   "outputs": [
    {
     "data": {
      "text/plain": [
       "0.8113207547169812"
      ]
     },
     "execution_count": 24,
     "metadata": {},
     "output_type": "execute_result"
    }
   ],
   "source": [
    "# Calculated accuracy using the predicted labels and actual labels from the test data\n",
    "\n",
    "accuracy_score(y_test,DT_predictions)"
   ]
  },
  {
   "cell_type": "code",
   "execution_count": 25,
   "id": "104b1cb3-23ae-44a5-a648-a163d52a4841",
   "metadata": {},
   "outputs": [
    {
     "data": {
      "text/plain": [
       "0.8147915119636895"
      ]
     },
     "execution_count": 25,
     "metadata": {},
     "output_type": "execute_result"
    }
   ],
   "source": [
    "precision_score(y_test,DT_predictions,average='weighted')"
   ]
  },
  {
   "cell_type": "code",
   "execution_count": 26,
   "id": "e93d9e49-905d-4bf3-ad7c-65a6365be070",
   "metadata": {},
   "outputs": [
    {
     "data": {
      "text/plain": [
       "0.8113207547169812"
      ]
     },
     "execution_count": 26,
     "metadata": {},
     "output_type": "execute_result"
    }
   ],
   "source": [
    "recall_score(y_test,DT_predictions,average='weighted')"
   ]
  },
  {
   "cell_type": "code",
   "execution_count": 27,
   "id": "0ecda9b2-66ac-4f74-9af6-cd863ef97aa1",
   "metadata": {},
   "outputs": [
    {
     "name": "stdout",
     "output_type": "stream",
     "text": [
      "              precision    recall  f1-score   support\n",
      "\n",
      "           0       0.75      0.85      0.80       121\n",
      "           1       0.76      0.77      0.76        90\n",
      "           2       0.79      0.75      0.77        99\n",
      "           3       0.92      0.86      0.89       131\n",
      "           4       0.84      0.80      0.82        89\n",
      "\n",
      "    accuracy                           0.81       530\n",
      "   macro avg       0.81      0.81      0.81       530\n",
      "weighted avg       0.81      0.81      0.81       530\n",
      "\n"
     ]
    }
   ],
   "source": [
    "print(classification_report(y_test,DT_predictions))"
   ]
  },
  {
   "cell_type": "markdown",
   "id": "66e53fce-c841-4aac-99c3-a5ac8d970ce3",
   "metadata": {},
   "source": [
    "## GradientBoostingClassifier"
   ]
  },
  {
   "cell_type": "code",
   "execution_count": 29,
   "id": "c2c27bf3-2c73-4066-8eb6-67a3b2c3e669",
   "metadata": {},
   "outputs": [],
   "source": [
    "# Imported Gradient Boosting Classifier from scikit-learn's ensemble\n",
    "\n",
    "from sklearn.ensemble import GradientBoostingClassifier"
   ]
  },
  {
   "cell_type": "code",
   "execution_count": 30,
   "id": "3064794b-91e0-4b0c-97e5-6609a6930d2e",
   "metadata": {},
   "outputs": [],
   "source": [
    "#Combine the vectorizer and the model into a pipeline\n",
    "\n",
    "pipeline = Pipeline([\n",
    "    ('tfidf', TfidfVectorizer()),\n",
    "    ('gb', GradientBoostingClassifier())\n",
    "])"
   ]
  },
  {
   "cell_type": "code",
   "execution_count": 31,
   "id": "d86b47a7-2e11-47cb-8945-7823d8c7684d",
   "metadata": {},
   "outputs": [
    {
     "data": {
      "text/html": [
       "<style>#sk-container-id-3 {color: black;}#sk-container-id-3 pre{padding: 0;}#sk-container-id-3 div.sk-toggleable {background-color: white;}#sk-container-id-3 label.sk-toggleable__label {cursor: pointer;display: block;width: 100%;margin-bottom: 0;padding: 0.3em;box-sizing: border-box;text-align: center;}#sk-container-id-3 label.sk-toggleable__label-arrow:before {content: \"▸\";float: left;margin-right: 0.25em;color: #696969;}#sk-container-id-3 label.sk-toggleable__label-arrow:hover:before {color: black;}#sk-container-id-3 div.sk-estimator:hover label.sk-toggleable__label-arrow:before {color: black;}#sk-container-id-3 div.sk-toggleable__content {max-height: 0;max-width: 0;overflow: hidden;text-align: left;background-color: #f0f8ff;}#sk-container-id-3 div.sk-toggleable__content pre {margin: 0.2em;color: black;border-radius: 0.25em;background-color: #f0f8ff;}#sk-container-id-3 input.sk-toggleable__control:checked~div.sk-toggleable__content {max-height: 200px;max-width: 100%;overflow: auto;}#sk-container-id-3 input.sk-toggleable__control:checked~label.sk-toggleable__label-arrow:before {content: \"▾\";}#sk-container-id-3 div.sk-estimator input.sk-toggleable__control:checked~label.sk-toggleable__label {background-color: #d4ebff;}#sk-container-id-3 div.sk-label input.sk-toggleable__control:checked~label.sk-toggleable__label {background-color: #d4ebff;}#sk-container-id-3 input.sk-hidden--visually {border: 0;clip: rect(1px 1px 1px 1px);clip: rect(1px, 1px, 1px, 1px);height: 1px;margin: -1px;overflow: hidden;padding: 0;position: absolute;width: 1px;}#sk-container-id-3 div.sk-estimator {font-family: monospace;background-color: #f0f8ff;border: 1px dotted black;border-radius: 0.25em;box-sizing: border-box;margin-bottom: 0.5em;}#sk-container-id-3 div.sk-estimator:hover {background-color: #d4ebff;}#sk-container-id-3 div.sk-parallel-item::after {content: \"\";width: 100%;border-bottom: 1px solid gray;flex-grow: 1;}#sk-container-id-3 div.sk-label:hover label.sk-toggleable__label {background-color: #d4ebff;}#sk-container-id-3 div.sk-serial::before {content: \"\";position: absolute;border-left: 1px solid gray;box-sizing: border-box;top: 0;bottom: 0;left: 50%;z-index: 0;}#sk-container-id-3 div.sk-serial {display: flex;flex-direction: column;align-items: center;background-color: white;padding-right: 0.2em;padding-left: 0.2em;position: relative;}#sk-container-id-3 div.sk-item {position: relative;z-index: 1;}#sk-container-id-3 div.sk-parallel {display: flex;align-items: stretch;justify-content: center;background-color: white;position: relative;}#sk-container-id-3 div.sk-item::before, #sk-container-id-3 div.sk-parallel-item::before {content: \"\";position: absolute;border-left: 1px solid gray;box-sizing: border-box;top: 0;bottom: 0;left: 50%;z-index: -1;}#sk-container-id-3 div.sk-parallel-item {display: flex;flex-direction: column;z-index: 1;position: relative;background-color: white;}#sk-container-id-3 div.sk-parallel-item:first-child::after {align-self: flex-end;width: 50%;}#sk-container-id-3 div.sk-parallel-item:last-child::after {align-self: flex-start;width: 50%;}#sk-container-id-3 div.sk-parallel-item:only-child::after {width: 0;}#sk-container-id-3 div.sk-dashed-wrapped {border: 1px dashed gray;margin: 0 0.4em 0.5em 0.4em;box-sizing: border-box;padding-bottom: 0.4em;background-color: white;}#sk-container-id-3 div.sk-label label {font-family: monospace;font-weight: bold;display: inline-block;line-height: 1.2em;}#sk-container-id-3 div.sk-label-container {text-align: center;}#sk-container-id-3 div.sk-container {/* jupyter's `normalize.less` sets `[hidden] { display: none; }` but bootstrap.min.css set `[hidden] { display: none !important; }` so we also need the `!important` here to be able to override the default hidden behavior on the sphinx rendered scikit-learn.org. See: https://github.com/scikit-learn/scikit-learn/issues/21755 */display: inline-block !important;position: relative;}#sk-container-id-3 div.sk-text-repr-fallback {display: none;}</style><div id=\"sk-container-id-3\" class=\"sk-top-container\"><div class=\"sk-text-repr-fallback\"><pre>Pipeline(steps=[(&#x27;tfidf&#x27;, TfidfVectorizer()),\n",
       "                (&#x27;gb&#x27;, GradientBoostingClassifier())])</pre><b>In a Jupyter environment, please rerun this cell to show the HTML representation or trust the notebook. <br />On GitHub, the HTML representation is unable to render, please try loading this page with nbviewer.org.</b></div><div class=\"sk-container\" hidden><div class=\"sk-item sk-dashed-wrapped\"><div class=\"sk-label-container\"><div class=\"sk-label sk-toggleable\"><input class=\"sk-toggleable__control sk-hidden--visually\" id=\"sk-estimator-id-7\" type=\"checkbox\" ><label for=\"sk-estimator-id-7\" class=\"sk-toggleable__label sk-toggleable__label-arrow\">Pipeline</label><div class=\"sk-toggleable__content\"><pre>Pipeline(steps=[(&#x27;tfidf&#x27;, TfidfVectorizer()),\n",
       "                (&#x27;gb&#x27;, GradientBoostingClassifier())])</pre></div></div></div><div class=\"sk-serial\"><div class=\"sk-item\"><div class=\"sk-estimator sk-toggleable\"><input class=\"sk-toggleable__control sk-hidden--visually\" id=\"sk-estimator-id-8\" type=\"checkbox\" ><label for=\"sk-estimator-id-8\" class=\"sk-toggleable__label sk-toggleable__label-arrow\">TfidfVectorizer</label><div class=\"sk-toggleable__content\"><pre>TfidfVectorizer()</pre></div></div></div><div class=\"sk-item\"><div class=\"sk-estimator sk-toggleable\"><input class=\"sk-toggleable__control sk-hidden--visually\" id=\"sk-estimator-id-9\" type=\"checkbox\" ><label for=\"sk-estimator-id-9\" class=\"sk-toggleable__label sk-toggleable__label-arrow\">GradientBoostingClassifier</label><div class=\"sk-toggleable__content\"><pre>GradientBoostingClassifier()</pre></div></div></div></div></div></div></div>"
      ],
      "text/plain": [
       "Pipeline(steps=[('tfidf', TfidfVectorizer()),\n",
       "                ('gb', GradientBoostingClassifier())])"
      ]
     },
     "execution_count": 31,
     "metadata": {},
     "output_type": "execute_result"
    }
   ],
   "source": [
    "# Fitted the text classification pipeline to the training data\n",
    "\n",
    "pipeline.fit(X_train, y_train)"
   ]
  },
  {
   "cell_type": "code",
   "execution_count": 32,
   "id": "b9df2ee2-1161-4279-9de9-69e0237e18b4",
   "metadata": {},
   "outputs": [
    {
     "data": {
      "text/plain": [
       "array([0, 0, 3, 0, 0, 2, 0, 0, 0, 3, 3, 4, 0, 2, 3, 3, 3, 0, 3, 0, 4, 4,\n",
       "       2, 1, 0, 0, 0, 4, 0, 3, 2, 4, 2, 0, 3, 3, 2, 3, 2, 2, 3, 3, 2, 1,\n",
       "       3, 3, 1, 0, 2, 3, 0, 4, 0, 3, 3, 3, 4, 1, 2, 2, 1, 2, 3, 1, 1, 4,\n",
       "       4, 1, 2, 4, 0, 4, 3, 1, 3, 1, 4, 0, 4, 3, 3, 4, 2, 2, 0, 1, 0, 3,\n",
       "       4, 2, 4, 4, 3, 0, 3, 0, 2, 0, 3, 3, 1, 3, 4, 0, 1, 0, 4, 0, 2, 1,\n",
       "       3, 3, 0, 3, 2, 0, 3, 1, 4, 3, 0, 2, 4, 4, 1, 3, 2, 3, 0, 3, 2, 1,\n",
       "       2, 2, 0, 4, 0, 1, 4, 0, 3, 3, 3, 4, 1, 3, 0, 1, 0, 1, 3, 0, 2, 4,\n",
       "       3, 4, 0, 0, 0, 1, 4, 0, 0, 1, 0, 2, 4, 3, 1, 4, 1, 1, 3, 2, 0, 1,\n",
       "       3, 2, 3, 3, 4, 1, 3, 2, 2, 3, 1, 0, 2, 0, 1, 1, 4, 1, 2, 1, 4, 3,\n",
       "       1, 3, 4, 0, 4, 1, 0, 2, 0, 4, 1, 1, 4, 1, 1, 3, 3, 2, 0, 3, 4, 0,\n",
       "       1, 0, 3, 0, 4, 2, 0, 3, 1, 3, 0, 4, 3, 0, 2, 2, 4, 3, 3, 0, 4, 4,\n",
       "       3, 2, 2, 0, 1, 0, 2, 4, 1, 0, 1, 2, 0, 0, 1, 0, 3, 0, 4, 4, 1, 3,\n",
       "       3, 0, 4, 1, 2, 0, 3, 2, 0, 0, 0, 1, 4, 0, 2, 4, 1, 3, 0, 1, 0, 4,\n",
       "       4, 3, 2, 2, 2, 2, 1, 0, 1, 2, 0, 3, 1, 4, 1, 0, 0, 4, 3, 3, 3, 3,\n",
       "       3, 4, 2, 3, 1, 1, 2, 4, 4, 3, 0, 3, 0, 0, 2, 0, 4, 0, 0, 2, 2, 0,\n",
       "       4, 3, 0, 4, 0, 0, 2, 0, 3, 3, 0, 4, 4, 0, 2, 2, 2, 4, 0, 4, 4, 0,\n",
       "       2, 3, 3, 2, 1, 1, 2, 1, 1, 2, 0, 3, 2, 3, 3, 0, 2, 3, 4, 3, 0, 3,\n",
       "       0, 2, 3, 4, 0, 3, 0, 3, 1, 1, 0, 3, 1, 1, 1, 0, 0, 1, 0, 1, 2, 1,\n",
       "       3, 0, 1, 2, 3, 3, 3, 0, 3, 2, 4, 3, 2, 4, 1, 0, 2, 4, 0, 0, 1, 4,\n",
       "       4, 3, 1, 4, 0, 1, 3, 2, 4, 2, 3, 1, 3, 2, 3, 3, 1, 0, 0, 4, 2, 2,\n",
       "       2, 0, 4, 3, 4, 2, 3, 0, 1, 1, 0, 3, 3, 0, 2, 0, 3, 1, 4, 2, 3, 2,\n",
       "       0, 1, 2, 2, 0, 0, 0, 3, 0, 3, 3, 4, 4, 3, 3, 4, 2, 1, 3, 3, 2, 2,\n",
       "       0, 1, 1, 4, 1, 4, 0, 3, 3, 1, 2, 4, 0, 4, 3, 3, 2, 1, 3, 3, 4, 0,\n",
       "       1, 2, 0, 2, 0, 3, 0, 3, 3, 1, 4, 2, 3, 1, 3, 3, 3, 3, 3, 2, 4, 3,\n",
       "       3, 0], dtype=int64)"
      ]
     },
     "execution_count": 32,
     "metadata": {},
     "output_type": "execute_result"
    }
   ],
   "source": [
    "# Generated predictions on the test data using the text classification pipeline\n",
    "\n",
    "RF_predictions = pipeline.predict(X_test)\n",
    "RF_predictions"
   ]
  },
  {
   "cell_type": "code",
   "execution_count": 33,
   "id": "367ba605-5622-4ff3-b3ee-fcaf67ae2173",
   "metadata": {},
   "outputs": [
    {
     "data": {
      "text/plain": [
       "0.9471698113207547"
      ]
     },
     "execution_count": 33,
     "metadata": {},
     "output_type": "execute_result"
    }
   ],
   "source": [
    "accuracy_score(y_test,RF_predictions)"
   ]
  },
  {
   "cell_type": "code",
   "execution_count": 34,
   "id": "6c678dcf-6c4a-4955-80f5-4ab594e6f5a6",
   "metadata": {},
   "outputs": [
    {
     "data": {
      "text/plain": [
       "0.9478130514383555"
      ]
     },
     "execution_count": 34,
     "metadata": {},
     "output_type": "execute_result"
    }
   ],
   "source": [
    "precision_score(y_test,RF_predictions,average='weighted')"
   ]
  },
  {
   "cell_type": "code",
   "execution_count": 35,
   "id": "4fa5916d-dd2f-4627-bca9-0e9de0984301",
   "metadata": {},
   "outputs": [
    {
     "data": {
      "text/plain": [
       "0.9471698113207547"
      ]
     },
     "execution_count": 35,
     "metadata": {},
     "output_type": "execute_result"
    }
   ],
   "source": [
    "recall_score(y_test,RF_predictions,average='weighted')"
   ]
  },
  {
   "cell_type": "code",
   "execution_count": 36,
   "id": "56311b4f-0fb2-4f45-960d-0146367c5824",
   "metadata": {},
   "outputs": [
    {
     "name": "stdout",
     "output_type": "stream",
     "text": [
      "              precision    recall  f1-score   support\n",
      "\n",
      "           0       0.91      0.96      0.93       121\n",
      "           1       0.94      0.92      0.93        90\n",
      "           2       0.97      0.90      0.93        99\n",
      "           3       0.97      1.00      0.98       131\n",
      "           4       0.95      0.93      0.94        89\n",
      "\n",
      "    accuracy                           0.95       530\n",
      "   macro avg       0.95      0.94      0.94       530\n",
      "weighted avg       0.95      0.95      0.95       530\n",
      "\n"
     ]
    }
   ],
   "source": [
    "print(classification_report(y_test,RF_predictions))"
   ]
  },
  {
   "cell_type": "markdown",
   "id": "7cb19b11-5e24-4eb1-9f71-b1e25cfdde2a",
   "metadata": {},
   "source": [
    "## Naive_Bayes"
   ]
  },
  {
   "cell_type": "code",
   "execution_count": 37,
   "id": "eb921247-6121-4410-b161-381d3e4efeb9",
   "metadata": {},
   "outputs": [],
   "source": [
    "from sklearn.naive_bayes import MultinomialNB"
   ]
  },
  {
   "cell_type": "code",
   "execution_count": 38,
   "id": "3ecda459-4c9d-44a9-85cd-f934dd38d250",
   "metadata": {},
   "outputs": [],
   "source": [
    "#Combine the vectorizer and the model into a pipeline\n",
    "\n",
    "pipeline = Pipeline([\n",
    "    ('tfidf', TfidfVectorizer()),\n",
    "    ('nb', MultinomialNB())\n",
    "])"
   ]
  },
  {
   "cell_type": "code",
   "execution_count": 39,
   "id": "c4861e3e-d855-45f1-a04d-69fa5a40436e",
   "metadata": {},
   "outputs": [
    {
     "data": {
      "text/html": [
       "<style>#sk-container-id-4 {color: black;}#sk-container-id-4 pre{padding: 0;}#sk-container-id-4 div.sk-toggleable {background-color: white;}#sk-container-id-4 label.sk-toggleable__label {cursor: pointer;display: block;width: 100%;margin-bottom: 0;padding: 0.3em;box-sizing: border-box;text-align: center;}#sk-container-id-4 label.sk-toggleable__label-arrow:before {content: \"▸\";float: left;margin-right: 0.25em;color: #696969;}#sk-container-id-4 label.sk-toggleable__label-arrow:hover:before {color: black;}#sk-container-id-4 div.sk-estimator:hover label.sk-toggleable__label-arrow:before {color: black;}#sk-container-id-4 div.sk-toggleable__content {max-height: 0;max-width: 0;overflow: hidden;text-align: left;background-color: #f0f8ff;}#sk-container-id-4 div.sk-toggleable__content pre {margin: 0.2em;color: black;border-radius: 0.25em;background-color: #f0f8ff;}#sk-container-id-4 input.sk-toggleable__control:checked~div.sk-toggleable__content {max-height: 200px;max-width: 100%;overflow: auto;}#sk-container-id-4 input.sk-toggleable__control:checked~label.sk-toggleable__label-arrow:before {content: \"▾\";}#sk-container-id-4 div.sk-estimator input.sk-toggleable__control:checked~label.sk-toggleable__label {background-color: #d4ebff;}#sk-container-id-4 div.sk-label input.sk-toggleable__control:checked~label.sk-toggleable__label {background-color: #d4ebff;}#sk-container-id-4 input.sk-hidden--visually {border: 0;clip: rect(1px 1px 1px 1px);clip: rect(1px, 1px, 1px, 1px);height: 1px;margin: -1px;overflow: hidden;padding: 0;position: absolute;width: 1px;}#sk-container-id-4 div.sk-estimator {font-family: monospace;background-color: #f0f8ff;border: 1px dotted black;border-radius: 0.25em;box-sizing: border-box;margin-bottom: 0.5em;}#sk-container-id-4 div.sk-estimator:hover {background-color: #d4ebff;}#sk-container-id-4 div.sk-parallel-item::after {content: \"\";width: 100%;border-bottom: 1px solid gray;flex-grow: 1;}#sk-container-id-4 div.sk-label:hover label.sk-toggleable__label {background-color: #d4ebff;}#sk-container-id-4 div.sk-serial::before {content: \"\";position: absolute;border-left: 1px solid gray;box-sizing: border-box;top: 0;bottom: 0;left: 50%;z-index: 0;}#sk-container-id-4 div.sk-serial {display: flex;flex-direction: column;align-items: center;background-color: white;padding-right: 0.2em;padding-left: 0.2em;position: relative;}#sk-container-id-4 div.sk-item {position: relative;z-index: 1;}#sk-container-id-4 div.sk-parallel {display: flex;align-items: stretch;justify-content: center;background-color: white;position: relative;}#sk-container-id-4 div.sk-item::before, #sk-container-id-4 div.sk-parallel-item::before {content: \"\";position: absolute;border-left: 1px solid gray;box-sizing: border-box;top: 0;bottom: 0;left: 50%;z-index: -1;}#sk-container-id-4 div.sk-parallel-item {display: flex;flex-direction: column;z-index: 1;position: relative;background-color: white;}#sk-container-id-4 div.sk-parallel-item:first-child::after {align-self: flex-end;width: 50%;}#sk-container-id-4 div.sk-parallel-item:last-child::after {align-self: flex-start;width: 50%;}#sk-container-id-4 div.sk-parallel-item:only-child::after {width: 0;}#sk-container-id-4 div.sk-dashed-wrapped {border: 1px dashed gray;margin: 0 0.4em 0.5em 0.4em;box-sizing: border-box;padding-bottom: 0.4em;background-color: white;}#sk-container-id-4 div.sk-label label {font-family: monospace;font-weight: bold;display: inline-block;line-height: 1.2em;}#sk-container-id-4 div.sk-label-container {text-align: center;}#sk-container-id-4 div.sk-container {/* jupyter's `normalize.less` sets `[hidden] { display: none; }` but bootstrap.min.css set `[hidden] { display: none !important; }` so we also need the `!important` here to be able to override the default hidden behavior on the sphinx rendered scikit-learn.org. See: https://github.com/scikit-learn/scikit-learn/issues/21755 */display: inline-block !important;position: relative;}#sk-container-id-4 div.sk-text-repr-fallback {display: none;}</style><div id=\"sk-container-id-4\" class=\"sk-top-container\"><div class=\"sk-text-repr-fallback\"><pre>Pipeline(steps=[(&#x27;tfidf&#x27;, TfidfVectorizer()), (&#x27;nb&#x27;, MultinomialNB())])</pre><b>In a Jupyter environment, please rerun this cell to show the HTML representation or trust the notebook. <br />On GitHub, the HTML representation is unable to render, please try loading this page with nbviewer.org.</b></div><div class=\"sk-container\" hidden><div class=\"sk-item sk-dashed-wrapped\"><div class=\"sk-label-container\"><div class=\"sk-label sk-toggleable\"><input class=\"sk-toggleable__control sk-hidden--visually\" id=\"sk-estimator-id-10\" type=\"checkbox\" ><label for=\"sk-estimator-id-10\" class=\"sk-toggleable__label sk-toggleable__label-arrow\">Pipeline</label><div class=\"sk-toggleable__content\"><pre>Pipeline(steps=[(&#x27;tfidf&#x27;, TfidfVectorizer()), (&#x27;nb&#x27;, MultinomialNB())])</pre></div></div></div><div class=\"sk-serial\"><div class=\"sk-item\"><div class=\"sk-estimator sk-toggleable\"><input class=\"sk-toggleable__control sk-hidden--visually\" id=\"sk-estimator-id-11\" type=\"checkbox\" ><label for=\"sk-estimator-id-11\" class=\"sk-toggleable__label sk-toggleable__label-arrow\">TfidfVectorizer</label><div class=\"sk-toggleable__content\"><pre>TfidfVectorizer()</pre></div></div></div><div class=\"sk-item\"><div class=\"sk-estimator sk-toggleable\"><input class=\"sk-toggleable__control sk-hidden--visually\" id=\"sk-estimator-id-12\" type=\"checkbox\" ><label for=\"sk-estimator-id-12\" class=\"sk-toggleable__label sk-toggleable__label-arrow\">MultinomialNB</label><div class=\"sk-toggleable__content\"><pre>MultinomialNB()</pre></div></div></div></div></div></div></div>"
      ],
      "text/plain": [
       "Pipeline(steps=[('tfidf', TfidfVectorizer()), ('nb', MultinomialNB())])"
      ]
     },
     "execution_count": 39,
     "metadata": {},
     "output_type": "execute_result"
    }
   ],
   "source": [
    "# Fitted the text classification pipeline to the training data\n",
    "\n",
    "pipeline.fit(X_train, y_train)"
   ]
  },
  {
   "cell_type": "code",
   "execution_count": 40,
   "id": "4232a6f3-fe94-463f-968c-5fd4d59d88b1",
   "metadata": {},
   "outputs": [
    {
     "data": {
      "text/plain": [
       "array([0, 0, 3, 0, 0, 2, 0, 0, 0, 3, 3, 4, 0, 2, 3, 3, 3, 0, 3, 0, 4, 4,\n",
       "       2, 1, 0, 0, 0, 0, 0, 3, 2, 4, 2, 0, 3, 3, 2, 3, 2, 2, 3, 3, 2, 1,\n",
       "       3, 2, 1, 0, 2, 3, 0, 4, 0, 3, 3, 3, 4, 1, 2, 2, 2, 2, 3, 1, 1, 4,\n",
       "       0, 1, 2, 2, 0, 4, 3, 1, 3, 1, 4, 0, 4, 3, 3, 4, 2, 2, 0, 1, 0, 3,\n",
       "       4, 2, 4, 0, 3, 0, 3, 0, 2, 0, 3, 3, 0, 3, 4, 0, 1, 0, 4, 0, 2, 1,\n",
       "       3, 3, 0, 3, 2, 0, 3, 1, 4, 3, 0, 2, 4, 4, 1, 3, 2, 3, 0, 3, 2, 1,\n",
       "       2, 2, 0, 4, 0, 1, 4, 2, 3, 3, 3, 3, 1, 3, 0, 2, 0, 1, 3, 0, 2, 4,\n",
       "       3, 4, 0, 0, 0, 1, 4, 0, 2, 1, 0, 2, 0, 3, 2, 4, 1, 1, 3, 2, 1, 1,\n",
       "       3, 2, 3, 3, 4, 1, 3, 2, 2, 3, 1, 0, 2, 0, 1, 1, 4, 1, 2, 1, 4, 3,\n",
       "       1, 3, 4, 0, 4, 1, 0, 2, 0, 4, 1, 0, 0, 1, 1, 3, 3, 2, 0, 3, 4, 0,\n",
       "       1, 0, 3, 0, 4, 2, 0, 3, 1, 3, 0, 4, 3, 2, 2, 1, 4, 3, 3, 0, 4, 4,\n",
       "       3, 2, 2, 0, 1, 0, 2, 4, 1, 0, 1, 2, 0, 0, 1, 0, 3, 0, 4, 4, 1, 3,\n",
       "       3, 0, 4, 1, 2, 0, 3, 2, 0, 0, 0, 1, 4, 0, 2, 4, 1, 3, 0, 1, 0, 4,\n",
       "       4, 3, 2, 2, 2, 2, 1, 0, 1, 2, 0, 3, 1, 2, 1, 0, 0, 4, 3, 3, 3, 1,\n",
       "       3, 4, 2, 3, 1, 1, 0, 4, 4, 3, 0, 3, 0, 0, 2, 0, 4, 0, 0, 2, 0, 0,\n",
       "       4, 3, 0, 0, 0, 0, 2, 2, 3, 3, 0, 4, 4, 2, 2, 2, 2, 4, 0, 4, 4, 0,\n",
       "       2, 3, 3, 2, 1, 1, 2, 4, 1, 2, 0, 3, 2, 3, 3, 0, 2, 3, 4, 3, 0, 3,\n",
       "       0, 2, 3, 4, 0, 3, 4, 3, 1, 1, 0, 3, 1, 1, 1, 0, 0, 1, 0, 1, 2, 1,\n",
       "       3, 0, 4, 2, 3, 3, 3, 0, 3, 2, 4, 3, 2, 4, 1, 0, 2, 4, 0, 0, 1, 4,\n",
       "       3, 3, 1, 4, 0, 2, 3, 2, 4, 2, 3, 1, 3, 2, 3, 3, 1, 0, 4, 4, 2, 2,\n",
       "       2, 0, 4, 3, 4, 2, 3, 0, 0, 1, 0, 3, 3, 0, 0, 0, 3, 1, 3, 2, 3, 2,\n",
       "       0, 1, 2, 2, 0, 0, 0, 3, 0, 3, 3, 4, 4, 3, 3, 2, 2, 1, 3, 3, 2, 2,\n",
       "       0, 1, 1, 4, 1, 4, 0, 3, 3, 1, 2, 4, 0, 4, 3, 3, 2, 0, 1, 3, 4, 0,\n",
       "       1, 2, 0, 2, 0, 3, 0, 3, 3, 1, 4, 2, 3, 1, 3, 3, 3, 3, 3, 2, 4, 3,\n",
       "       3, 0], dtype=int64)"
      ]
     },
     "execution_count": 40,
     "metadata": {},
     "output_type": "execute_result"
    }
   ],
   "source": [
    "# Generated predictions on the test data using the text classification pipeline\n",
    "\n",
    "MNB_predictions = pipeline.predict(X_test)\n",
    "MNB_predictions"
   ]
  },
  {
   "cell_type": "code",
   "execution_count": 41,
   "id": "dbff8239-548b-454a-81a6-8752e2ea9bad",
   "metadata": {},
   "outputs": [
    {
     "data": {
      "text/plain": [
       "0.9490566037735849"
      ]
     },
     "execution_count": 41,
     "metadata": {},
     "output_type": "execute_result"
    }
   ],
   "source": [
    "accuracy_score(y_test,MNB_predictions)"
   ]
  },
  {
   "cell_type": "code",
   "execution_count": 42,
   "id": "2dcaf746-0ab5-4dd7-95b9-46b27fff6703",
   "metadata": {},
   "outputs": [
    {
     "data": {
      "text/plain": [
       "0.9514474070144896"
      ]
     },
     "execution_count": 42,
     "metadata": {},
     "output_type": "execute_result"
    }
   ],
   "source": [
    "precision_score(y_test,MNB_predictions,average='weighted')"
   ]
  },
  {
   "cell_type": "code",
   "execution_count": 43,
   "id": "409aeb67-2623-4741-8ddc-cd1fe8cf572b",
   "metadata": {},
   "outputs": [
    {
     "data": {
      "text/plain": [
       "0.9490566037735849"
      ]
     },
     "execution_count": 43,
     "metadata": {},
     "output_type": "execute_result"
    }
   ],
   "source": [
    "recall_score(y_test,MNB_predictions,average='weighted')"
   ]
  },
  {
   "cell_type": "code",
   "execution_count": 44,
   "id": "3b1cd157-adbd-4786-91fc-9fc977889d5a",
   "metadata": {},
   "outputs": [
    {
     "name": "stdout",
     "output_type": "stream",
     "text": [
      "              precision    recall  f1-score   support\n",
      "\n",
      "           0       0.89      0.98      0.94       121\n",
      "           1       1.00      0.91      0.95        90\n",
      "           2       0.93      0.95      0.94        99\n",
      "           3       0.97      1.00      0.98       131\n",
      "           4       0.97      0.87      0.92        89\n",
      "\n",
      "    accuracy                           0.95       530\n",
      "   macro avg       0.95      0.94      0.95       530\n",
      "weighted avg       0.95      0.95      0.95       530\n",
      "\n"
     ]
    }
   ],
   "source": [
    "print(classification_report(y_test,MNB_predictions))"
   ]
  },
  {
   "cell_type": "markdown",
   "id": "a51b54d4-03ad-4791-9a26-e6e839b9bb25",
   "metadata": {},
   "source": [
    "## Support Vector Classification"
   ]
  },
  {
   "cell_type": "code",
   "execution_count": 46,
   "id": "dc85d4d9-018f-4acb-8a30-c414496d09a3",
   "metadata": {},
   "outputs": [],
   "source": [
    "from sklearn.svm import LinearSVC\n",
    "\n",
    "# Create a pipeline with TF-IDF vectorizer and Linear SVM classifier\n",
    "pipeline_svm = Pipeline([\n",
    "    ('tfidf', TfidfVectorizer()),\n",
    "    ('svm', LinearSVC(random_state=0, C=1,dual='auto'))\n",
    "])"
   ]
  },
  {
   "cell_type": "code",
   "execution_count": 47,
   "id": "e97a1f97-7b5f-43bb-b10f-48d16d4b093c",
   "metadata": {},
   "outputs": [
    {
     "data": {
      "text/html": [
       "<style>#sk-container-id-5 {color: black;}#sk-container-id-5 pre{padding: 0;}#sk-container-id-5 div.sk-toggleable {background-color: white;}#sk-container-id-5 label.sk-toggleable__label {cursor: pointer;display: block;width: 100%;margin-bottom: 0;padding: 0.3em;box-sizing: border-box;text-align: center;}#sk-container-id-5 label.sk-toggleable__label-arrow:before {content: \"▸\";float: left;margin-right: 0.25em;color: #696969;}#sk-container-id-5 label.sk-toggleable__label-arrow:hover:before {color: black;}#sk-container-id-5 div.sk-estimator:hover label.sk-toggleable__label-arrow:before {color: black;}#sk-container-id-5 div.sk-toggleable__content {max-height: 0;max-width: 0;overflow: hidden;text-align: left;background-color: #f0f8ff;}#sk-container-id-5 div.sk-toggleable__content pre {margin: 0.2em;color: black;border-radius: 0.25em;background-color: #f0f8ff;}#sk-container-id-5 input.sk-toggleable__control:checked~div.sk-toggleable__content {max-height: 200px;max-width: 100%;overflow: auto;}#sk-container-id-5 input.sk-toggleable__control:checked~label.sk-toggleable__label-arrow:before {content: \"▾\";}#sk-container-id-5 div.sk-estimator input.sk-toggleable__control:checked~label.sk-toggleable__label {background-color: #d4ebff;}#sk-container-id-5 div.sk-label input.sk-toggleable__control:checked~label.sk-toggleable__label {background-color: #d4ebff;}#sk-container-id-5 input.sk-hidden--visually {border: 0;clip: rect(1px 1px 1px 1px);clip: rect(1px, 1px, 1px, 1px);height: 1px;margin: -1px;overflow: hidden;padding: 0;position: absolute;width: 1px;}#sk-container-id-5 div.sk-estimator {font-family: monospace;background-color: #f0f8ff;border: 1px dotted black;border-radius: 0.25em;box-sizing: border-box;margin-bottom: 0.5em;}#sk-container-id-5 div.sk-estimator:hover {background-color: #d4ebff;}#sk-container-id-5 div.sk-parallel-item::after {content: \"\";width: 100%;border-bottom: 1px solid gray;flex-grow: 1;}#sk-container-id-5 div.sk-label:hover label.sk-toggleable__label {background-color: #d4ebff;}#sk-container-id-5 div.sk-serial::before {content: \"\";position: absolute;border-left: 1px solid gray;box-sizing: border-box;top: 0;bottom: 0;left: 50%;z-index: 0;}#sk-container-id-5 div.sk-serial {display: flex;flex-direction: column;align-items: center;background-color: white;padding-right: 0.2em;padding-left: 0.2em;position: relative;}#sk-container-id-5 div.sk-item {position: relative;z-index: 1;}#sk-container-id-5 div.sk-parallel {display: flex;align-items: stretch;justify-content: center;background-color: white;position: relative;}#sk-container-id-5 div.sk-item::before, #sk-container-id-5 div.sk-parallel-item::before {content: \"\";position: absolute;border-left: 1px solid gray;box-sizing: border-box;top: 0;bottom: 0;left: 50%;z-index: -1;}#sk-container-id-5 div.sk-parallel-item {display: flex;flex-direction: column;z-index: 1;position: relative;background-color: white;}#sk-container-id-5 div.sk-parallel-item:first-child::after {align-self: flex-end;width: 50%;}#sk-container-id-5 div.sk-parallel-item:last-child::after {align-self: flex-start;width: 50%;}#sk-container-id-5 div.sk-parallel-item:only-child::after {width: 0;}#sk-container-id-5 div.sk-dashed-wrapped {border: 1px dashed gray;margin: 0 0.4em 0.5em 0.4em;box-sizing: border-box;padding-bottom: 0.4em;background-color: white;}#sk-container-id-5 div.sk-label label {font-family: monospace;font-weight: bold;display: inline-block;line-height: 1.2em;}#sk-container-id-5 div.sk-label-container {text-align: center;}#sk-container-id-5 div.sk-container {/* jupyter's `normalize.less` sets `[hidden] { display: none; }` but bootstrap.min.css set `[hidden] { display: none !important; }` so we also need the `!important` here to be able to override the default hidden behavior on the sphinx rendered scikit-learn.org. See: https://github.com/scikit-learn/scikit-learn/issues/21755 */display: inline-block !important;position: relative;}#sk-container-id-5 div.sk-text-repr-fallback {display: none;}</style><div id=\"sk-container-id-5\" class=\"sk-top-container\"><div class=\"sk-text-repr-fallback\"><pre>Pipeline(steps=[(&#x27;tfidf&#x27;, TfidfVectorizer()),\n",
       "                (&#x27;svm&#x27;, LinearSVC(C=1, dual=&#x27;auto&#x27;, random_state=0))])</pre><b>In a Jupyter environment, please rerun this cell to show the HTML representation or trust the notebook. <br />On GitHub, the HTML representation is unable to render, please try loading this page with nbviewer.org.</b></div><div class=\"sk-container\" hidden><div class=\"sk-item sk-dashed-wrapped\"><div class=\"sk-label-container\"><div class=\"sk-label sk-toggleable\"><input class=\"sk-toggleable__control sk-hidden--visually\" id=\"sk-estimator-id-13\" type=\"checkbox\" ><label for=\"sk-estimator-id-13\" class=\"sk-toggleable__label sk-toggleable__label-arrow\">Pipeline</label><div class=\"sk-toggleable__content\"><pre>Pipeline(steps=[(&#x27;tfidf&#x27;, TfidfVectorizer()),\n",
       "                (&#x27;svm&#x27;, LinearSVC(C=1, dual=&#x27;auto&#x27;, random_state=0))])</pre></div></div></div><div class=\"sk-serial\"><div class=\"sk-item\"><div class=\"sk-estimator sk-toggleable\"><input class=\"sk-toggleable__control sk-hidden--visually\" id=\"sk-estimator-id-14\" type=\"checkbox\" ><label for=\"sk-estimator-id-14\" class=\"sk-toggleable__label sk-toggleable__label-arrow\">TfidfVectorizer</label><div class=\"sk-toggleable__content\"><pre>TfidfVectorizer()</pre></div></div></div><div class=\"sk-item\"><div class=\"sk-estimator sk-toggleable\"><input class=\"sk-toggleable__control sk-hidden--visually\" id=\"sk-estimator-id-15\" type=\"checkbox\" ><label for=\"sk-estimator-id-15\" class=\"sk-toggleable__label sk-toggleable__label-arrow\">LinearSVC</label><div class=\"sk-toggleable__content\"><pre>LinearSVC(C=1, dual=&#x27;auto&#x27;, random_state=0)</pre></div></div></div></div></div></div></div>"
      ],
      "text/plain": [
       "Pipeline(steps=[('tfidf', TfidfVectorizer()),\n",
       "                ('svm', LinearSVC(C=1, dual='auto', random_state=0))])"
      ]
     },
     "execution_count": 47,
     "metadata": {},
     "output_type": "execute_result"
    }
   ],
   "source": [
    "# Fit the pipeline on the training data\n",
    "pipeline_svm.fit(X_train, y_train)"
   ]
  },
  {
   "cell_type": "code",
   "execution_count": 48,
   "id": "ab7017c4-dbe3-4062-9098-85440fe332e5",
   "metadata": {},
   "outputs": [
    {
     "data": {
      "text/plain": [
       "array([0, 0, 3, 0, 0, 2, 0, 0, 0, 3, 3, 4, 4, 2, 3, 3, 3, 0, 3, 0, 4, 4,\n",
       "       2, 1, 0, 0, 0, 0, 0, 3, 2, 4, 2, 0, 3, 3, 2, 3, 2, 2, 3, 3, 2, 1,\n",
       "       3, 3, 1, 0, 2, 3, 0, 4, 0, 3, 3, 3, 4, 1, 2, 2, 1, 2, 3, 1, 1, 4,\n",
       "       4, 1, 2, 4, 0, 4, 3, 1, 3, 1, 4, 0, 4, 3, 3, 4, 2, 2, 0, 1, 0, 3,\n",
       "       4, 2, 4, 0, 3, 0, 3, 0, 2, 0, 3, 3, 0, 3, 4, 0, 1, 0, 4, 0, 2, 1,\n",
       "       3, 3, 0, 3, 2, 0, 3, 1, 4, 3, 0, 2, 4, 4, 1, 3, 2, 3, 0, 3, 2, 1,\n",
       "       2, 2, 0, 4, 0, 1, 4, 2, 3, 3, 3, 4, 1, 3, 0, 1, 0, 1, 3, 0, 2, 4,\n",
       "       3, 4, 0, 0, 0, 1, 4, 0, 2, 1, 0, 2, 4, 3, 2, 4, 1, 1, 3, 2, 1, 1,\n",
       "       3, 2, 3, 3, 4, 1, 3, 2, 2, 3, 1, 0, 2, 0, 1, 1, 4, 1, 2, 1, 4, 3,\n",
       "       1, 3, 4, 0, 4, 1, 0, 2, 0, 4, 1, 0, 4, 1, 1, 3, 3, 2, 0, 3, 4, 0,\n",
       "       1, 0, 3, 0, 4, 2, 0, 3, 1, 3, 0, 4, 3, 2, 2, 1, 4, 3, 3, 0, 4, 4,\n",
       "       3, 2, 2, 0, 1, 0, 2, 4, 1, 0, 1, 2, 0, 0, 1, 0, 3, 0, 4, 4, 1, 3,\n",
       "       3, 0, 4, 1, 2, 0, 3, 2, 0, 0, 0, 1, 4, 0, 2, 4, 1, 3, 0, 1, 0, 4,\n",
       "       4, 3, 2, 2, 2, 2, 1, 0, 1, 2, 0, 3, 1, 4, 1, 0, 0, 4, 3, 3, 3, 1,\n",
       "       3, 4, 2, 3, 1, 1, 0, 4, 4, 3, 0, 3, 0, 0, 2, 0, 4, 0, 1, 2, 0, 0,\n",
       "       4, 3, 0, 0, 0, 0, 2, 2, 3, 3, 0, 4, 4, 2, 2, 2, 2, 4, 0, 4, 4, 0,\n",
       "       2, 3, 3, 2, 1, 1, 2, 4, 1, 2, 0, 1, 2, 3, 3, 0, 2, 3, 4, 3, 0, 3,\n",
       "       0, 2, 3, 4, 0, 3, 4, 3, 1, 1, 0, 3, 1, 1, 1, 0, 0, 1, 0, 1, 2, 1,\n",
       "       3, 0, 4, 2, 3, 3, 3, 0, 3, 2, 4, 3, 2, 4, 1, 0, 2, 4, 4, 0, 1, 4,\n",
       "       4, 3, 1, 4, 0, 2, 3, 2, 4, 2, 3, 1, 3, 2, 3, 3, 1, 0, 4, 4, 2, 2,\n",
       "       2, 0, 4, 3, 4, 2, 3, 0, 1, 1, 0, 3, 3, 0, 2, 0, 3, 1, 3, 2, 3, 2,\n",
       "       0, 1, 2, 2, 0, 0, 0, 3, 0, 3, 3, 4, 4, 3, 3, 4, 2, 1, 3, 3, 2, 2,\n",
       "       0, 1, 1, 4, 1, 4, 0, 3, 3, 1, 2, 4, 0, 4, 3, 3, 2, 1, 1, 3, 4, 0,\n",
       "       1, 2, 0, 2, 0, 3, 0, 3, 3, 1, 4, 2, 3, 1, 3, 3, 3, 3, 3, 2, 4, 3,\n",
       "       3, 0], dtype=int64)"
      ]
     },
     "execution_count": 48,
     "metadata": {},
     "output_type": "execute_result"
    }
   ],
   "source": [
    "SVM_predictions = pipeline_svm.predict(X_test)\n",
    "SVM_predictions"
   ]
  },
  {
   "cell_type": "code",
   "execution_count": 49,
   "id": "1de51517-3f24-4c8b-9b05-f03ca2d8ebb1",
   "metadata": {},
   "outputs": [
    {
     "data": {
      "text/plain": [
       "0.9792452830188679"
      ]
     },
     "execution_count": 49,
     "metadata": {},
     "output_type": "execute_result"
    }
   ],
   "source": [
    "accuracy_score(y_test,SVM_predictions)"
   ]
  },
  {
   "cell_type": "code",
   "execution_count": 50,
   "id": "4edd1463-443a-403c-bd69-a4ec80475b8a",
   "metadata": {},
   "outputs": [
    {
     "data": {
      "text/plain": [
       "0.9794123451507649"
      ]
     },
     "execution_count": 50,
     "metadata": {},
     "output_type": "execute_result"
    }
   ],
   "source": [
    "precision_score(y_test,SVM_predictions,average='weighted')"
   ]
  },
  {
   "cell_type": "code",
   "execution_count": 51,
   "id": "03e5df7e-39df-47a0-bfe0-ebed32405e6d",
   "metadata": {},
   "outputs": [
    {
     "data": {
      "text/plain": [
       "0.9792452830188679"
      ]
     },
     "execution_count": 51,
     "metadata": {},
     "output_type": "execute_result"
    }
   ],
   "source": [
    "recall_score(y_test,SVM_predictions,average='weighted')"
   ]
  },
  {
   "cell_type": "code",
   "execution_count": 52,
   "id": "916bf80f-03b8-4608-93d6-129de1303376",
   "metadata": {},
   "outputs": [
    {
     "name": "stdout",
     "output_type": "stream",
     "text": [
      "              precision    recall  f1-score   support\n",
      "\n",
      "           0       0.96      0.98      0.97       121\n",
      "           1       1.00      0.98      0.99        90\n",
      "           2       0.98      0.95      0.96        99\n",
      "           3       0.98      1.00      0.99       131\n",
      "           4       0.98      0.98      0.98        89\n",
      "\n",
      "    accuracy                           0.98       530\n",
      "   macro avg       0.98      0.98      0.98       530\n",
      "weighted avg       0.98      0.98      0.98       530\n",
      "\n"
     ]
    }
   ],
   "source": [
    "print(classification_report(y_test,SVM_predictions))"
   ]
  },
  {
   "cell_type": "markdown",
   "id": "63622b2d-c736-4646-a732-3d1c58214b1c",
   "metadata": {},
   "source": [
    "## K-Nearest Neighbors (KNN)"
   ]
  },
  {
   "cell_type": "code",
   "execution_count": 53,
   "id": "effaa138-eab9-416f-96ba-b073a35d63b4",
   "metadata": {},
   "outputs": [],
   "source": [
    "from sklearn.neighbors import KNeighborsClassifier\n",
    "\n",
    "# Create a pipeline with TF-IDF vectorizer and K-Nearest Neighbors classifier\n",
    "pipeline_knn = Pipeline([\n",
    "    ('tfidf', TfidfVectorizer()),\n",
    "    ('knn', KNeighborsClassifier(n_neighbors=5))\n",
    "])"
   ]
  },
  {
   "cell_type": "code",
   "execution_count": 54,
   "id": "e675bbad-dcaa-41cd-96f2-a12dcf21443c",
   "metadata": {},
   "outputs": [
    {
     "data": {
      "text/html": [
       "<style>#sk-container-id-6 {color: black;}#sk-container-id-6 pre{padding: 0;}#sk-container-id-6 div.sk-toggleable {background-color: white;}#sk-container-id-6 label.sk-toggleable__label {cursor: pointer;display: block;width: 100%;margin-bottom: 0;padding: 0.3em;box-sizing: border-box;text-align: center;}#sk-container-id-6 label.sk-toggleable__label-arrow:before {content: \"▸\";float: left;margin-right: 0.25em;color: #696969;}#sk-container-id-6 label.sk-toggleable__label-arrow:hover:before {color: black;}#sk-container-id-6 div.sk-estimator:hover label.sk-toggleable__label-arrow:before {color: black;}#sk-container-id-6 div.sk-toggleable__content {max-height: 0;max-width: 0;overflow: hidden;text-align: left;background-color: #f0f8ff;}#sk-container-id-6 div.sk-toggleable__content pre {margin: 0.2em;color: black;border-radius: 0.25em;background-color: #f0f8ff;}#sk-container-id-6 input.sk-toggleable__control:checked~div.sk-toggleable__content {max-height: 200px;max-width: 100%;overflow: auto;}#sk-container-id-6 input.sk-toggleable__control:checked~label.sk-toggleable__label-arrow:before {content: \"▾\";}#sk-container-id-6 div.sk-estimator input.sk-toggleable__control:checked~label.sk-toggleable__label {background-color: #d4ebff;}#sk-container-id-6 div.sk-label input.sk-toggleable__control:checked~label.sk-toggleable__label {background-color: #d4ebff;}#sk-container-id-6 input.sk-hidden--visually {border: 0;clip: rect(1px 1px 1px 1px);clip: rect(1px, 1px, 1px, 1px);height: 1px;margin: -1px;overflow: hidden;padding: 0;position: absolute;width: 1px;}#sk-container-id-6 div.sk-estimator {font-family: monospace;background-color: #f0f8ff;border: 1px dotted black;border-radius: 0.25em;box-sizing: border-box;margin-bottom: 0.5em;}#sk-container-id-6 div.sk-estimator:hover {background-color: #d4ebff;}#sk-container-id-6 div.sk-parallel-item::after {content: \"\";width: 100%;border-bottom: 1px solid gray;flex-grow: 1;}#sk-container-id-6 div.sk-label:hover label.sk-toggleable__label {background-color: #d4ebff;}#sk-container-id-6 div.sk-serial::before {content: \"\";position: absolute;border-left: 1px solid gray;box-sizing: border-box;top: 0;bottom: 0;left: 50%;z-index: 0;}#sk-container-id-6 div.sk-serial {display: flex;flex-direction: column;align-items: center;background-color: white;padding-right: 0.2em;padding-left: 0.2em;position: relative;}#sk-container-id-6 div.sk-item {position: relative;z-index: 1;}#sk-container-id-6 div.sk-parallel {display: flex;align-items: stretch;justify-content: center;background-color: white;position: relative;}#sk-container-id-6 div.sk-item::before, #sk-container-id-6 div.sk-parallel-item::before {content: \"\";position: absolute;border-left: 1px solid gray;box-sizing: border-box;top: 0;bottom: 0;left: 50%;z-index: -1;}#sk-container-id-6 div.sk-parallel-item {display: flex;flex-direction: column;z-index: 1;position: relative;background-color: white;}#sk-container-id-6 div.sk-parallel-item:first-child::after {align-self: flex-end;width: 50%;}#sk-container-id-6 div.sk-parallel-item:last-child::after {align-self: flex-start;width: 50%;}#sk-container-id-6 div.sk-parallel-item:only-child::after {width: 0;}#sk-container-id-6 div.sk-dashed-wrapped {border: 1px dashed gray;margin: 0 0.4em 0.5em 0.4em;box-sizing: border-box;padding-bottom: 0.4em;background-color: white;}#sk-container-id-6 div.sk-label label {font-family: monospace;font-weight: bold;display: inline-block;line-height: 1.2em;}#sk-container-id-6 div.sk-label-container {text-align: center;}#sk-container-id-6 div.sk-container {/* jupyter's `normalize.less` sets `[hidden] { display: none; }` but bootstrap.min.css set `[hidden] { display: none !important; }` so we also need the `!important` here to be able to override the default hidden behavior on the sphinx rendered scikit-learn.org. See: https://github.com/scikit-learn/scikit-learn/issues/21755 */display: inline-block !important;position: relative;}#sk-container-id-6 div.sk-text-repr-fallback {display: none;}</style><div id=\"sk-container-id-6\" class=\"sk-top-container\"><div class=\"sk-text-repr-fallback\"><pre>Pipeline(steps=[(&#x27;tfidf&#x27;, TfidfVectorizer()), (&#x27;knn&#x27;, KNeighborsClassifier())])</pre><b>In a Jupyter environment, please rerun this cell to show the HTML representation or trust the notebook. <br />On GitHub, the HTML representation is unable to render, please try loading this page with nbviewer.org.</b></div><div class=\"sk-container\" hidden><div class=\"sk-item sk-dashed-wrapped\"><div class=\"sk-label-container\"><div class=\"sk-label sk-toggleable\"><input class=\"sk-toggleable__control sk-hidden--visually\" id=\"sk-estimator-id-16\" type=\"checkbox\" ><label for=\"sk-estimator-id-16\" class=\"sk-toggleable__label sk-toggleable__label-arrow\">Pipeline</label><div class=\"sk-toggleable__content\"><pre>Pipeline(steps=[(&#x27;tfidf&#x27;, TfidfVectorizer()), (&#x27;knn&#x27;, KNeighborsClassifier())])</pre></div></div></div><div class=\"sk-serial\"><div class=\"sk-item\"><div class=\"sk-estimator sk-toggleable\"><input class=\"sk-toggleable__control sk-hidden--visually\" id=\"sk-estimator-id-17\" type=\"checkbox\" ><label for=\"sk-estimator-id-17\" class=\"sk-toggleable__label sk-toggleable__label-arrow\">TfidfVectorizer</label><div class=\"sk-toggleable__content\"><pre>TfidfVectorizer()</pre></div></div></div><div class=\"sk-item\"><div class=\"sk-estimator sk-toggleable\"><input class=\"sk-toggleable__control sk-hidden--visually\" id=\"sk-estimator-id-18\" type=\"checkbox\" ><label for=\"sk-estimator-id-18\" class=\"sk-toggleable__label sk-toggleable__label-arrow\">KNeighborsClassifier</label><div class=\"sk-toggleable__content\"><pre>KNeighborsClassifier()</pre></div></div></div></div></div></div></div>"
      ],
      "text/plain": [
       "Pipeline(steps=[('tfidf', TfidfVectorizer()), ('knn', KNeighborsClassifier())])"
      ]
     },
     "execution_count": 54,
     "metadata": {},
     "output_type": "execute_result"
    }
   ],
   "source": [
    "# Fit the pipeline on the training data\n",
    "pipeline_knn.fit(X_train, y_train)"
   ]
  },
  {
   "cell_type": "code",
   "execution_count": 55,
   "id": "d2ca34aa-e047-46c4-a3d8-5b0ec505b2d2",
   "metadata": {},
   "outputs": [
    {
     "data": {
      "text/plain": [
       "array([0, 0, 3, 0, 0, 0, 0, 0, 2, 3, 3, 4, 4, 2, 3, 3, 3, 0, 3, 0, 4, 4,\n",
       "       2, 1, 0, 0, 0, 0, 0, 3, 2, 4, 2, 0, 3, 3, 2, 3, 2, 2, 3, 0, 2, 1,\n",
       "       3, 2, 1, 0, 2, 3, 0, 4, 2, 3, 3, 3, 4, 1, 2, 2, 1, 2, 3, 1, 1, 4,\n",
       "       4, 1, 0, 4, 0, 4, 3, 1, 3, 1, 4, 0, 4, 3, 3, 4, 2, 2, 0, 1, 0, 3,\n",
       "       4, 2, 4, 0, 3, 0, 3, 0, 2, 0, 3, 3, 2, 3, 4, 0, 1, 0, 4, 0, 2, 1,\n",
       "       3, 3, 0, 3, 2, 0, 3, 1, 4, 3, 0, 2, 4, 4, 1, 3, 2, 3, 0, 3, 2, 1,\n",
       "       2, 2, 0, 4, 0, 1, 4, 2, 3, 3, 3, 4, 1, 3, 0, 0, 0, 0, 3, 0, 2, 4,\n",
       "       3, 4, 0, 0, 2, 1, 4, 0, 2, 1, 0, 2, 4, 3, 2, 4, 1, 1, 3, 2, 1, 1,\n",
       "       3, 2, 3, 3, 4, 1, 3, 2, 2, 3, 1, 0, 2, 0, 1, 1, 4, 1, 2, 1, 4, 3,\n",
       "       1, 3, 4, 0, 4, 1, 4, 0, 0, 4, 1, 0, 4, 1, 1, 3, 3, 2, 0, 3, 4, 0,\n",
       "       1, 0, 3, 0, 4, 0, 0, 3, 1, 3, 0, 4, 3, 2, 2, 1, 4, 3, 3, 0, 1, 4,\n",
       "       3, 2, 2, 0, 1, 0, 2, 4, 1, 0, 1, 2, 0, 0, 1, 0, 3, 0, 4, 4, 1, 3,\n",
       "       3, 0, 4, 1, 2, 0, 3, 2, 0, 0, 4, 1, 4, 0, 2, 4, 1, 3, 0, 1, 0, 4,\n",
       "       4, 3, 2, 2, 2, 2, 1, 0, 1, 2, 0, 3, 2, 4, 1, 0, 0, 4, 3, 3, 3, 1,\n",
       "       3, 4, 2, 3, 1, 1, 0, 4, 4, 3, 0, 3, 0, 0, 2, 3, 4, 0, 1, 2, 2, 0,\n",
       "       4, 3, 0, 0, 0, 0, 2, 2, 3, 3, 2, 4, 4, 2, 2, 2, 2, 4, 0, 4, 4, 0,\n",
       "       2, 3, 3, 2, 1, 1, 2, 4, 1, 2, 0, 3, 2, 3, 3, 0, 2, 3, 4, 3, 0, 3,\n",
       "       0, 2, 3, 4, 0, 3, 4, 3, 1, 4, 0, 3, 1, 1, 1, 4, 0, 1, 0, 1, 2, 1,\n",
       "       3, 0, 4, 2, 3, 3, 3, 0, 3, 2, 4, 3, 2, 4, 1, 0, 2, 4, 4, 0, 1, 4,\n",
       "       4, 3, 0, 4, 0, 2, 3, 2, 4, 2, 3, 1, 3, 2, 3, 3, 1, 0, 4, 4, 2, 2,\n",
       "       2, 0, 4, 3, 4, 2, 3, 0, 1, 1, 0, 3, 3, 0, 2, 0, 3, 1, 4, 2, 3, 2,\n",
       "       0, 1, 2, 4, 0, 0, 0, 3, 0, 3, 3, 4, 4, 3, 3, 4, 2, 1, 3, 3, 4, 2,\n",
       "       0, 1, 4, 4, 1, 4, 0, 3, 3, 1, 2, 4, 0, 4, 3, 3, 2, 1, 2, 3, 4, 0,\n",
       "       1, 2, 0, 2, 0, 3, 0, 2, 3, 1, 4, 2, 3, 1, 3, 3, 3, 3, 3, 2, 4, 3,\n",
       "       3, 0], dtype=int64)"
      ]
     },
     "execution_count": 55,
     "metadata": {},
     "output_type": "execute_result"
    }
   ],
   "source": [
    "KNN_predictions = pipeline_knn.predict(X_test)\n",
    "KNN_predictions"
   ]
  },
  {
   "cell_type": "code",
   "execution_count": 56,
   "id": "ad693d4d-d133-4b63-8991-0c6beabe0b3b",
   "metadata": {},
   "outputs": [
    {
     "data": {
      "text/plain": [
       "0.9415094339622642"
      ]
     },
     "execution_count": 56,
     "metadata": {},
     "output_type": "execute_result"
    }
   ],
   "source": [
    "accuracy_score(y_test,KNN_predictions)"
   ]
  },
  {
   "cell_type": "code",
   "execution_count": 57,
   "id": "7703cc9c-c924-4246-93b1-51e1c7d858bb",
   "metadata": {},
   "outputs": [
    {
     "data": {
      "text/plain": [
       "0.9428590619307832"
      ]
     },
     "execution_count": 57,
     "metadata": {},
     "output_type": "execute_result"
    }
   ],
   "source": [
    "precision_score(y_test,KNN_predictions,average='weighted')"
   ]
  },
  {
   "cell_type": "code",
   "execution_count": 58,
   "id": "9055f20c-5f36-43f5-a79b-12bf5d36790d",
   "metadata": {},
   "outputs": [
    {
     "data": {
      "text/plain": [
       "0.9415094339622642"
      ]
     },
     "execution_count": 58,
     "metadata": {},
     "output_type": "execute_result"
    }
   ],
   "source": [
    "recall_score(y_test,KNN_predictions,average='weighted')"
   ]
  },
  {
   "cell_type": "code",
   "execution_count": 59,
   "id": "49b7c0b4-837e-4b98-b9fe-2129dde80320",
   "metadata": {},
   "outputs": [
    {
     "name": "stdout",
     "output_type": "stream",
     "text": [
      "              precision    recall  f1-score   support\n",
      "\n",
      "           0       0.91      0.92      0.91       121\n",
      "           1       0.99      0.89      0.94        90\n",
      "           2       0.92      0.93      0.92        99\n",
      "           3       0.98      0.98      0.98       131\n",
      "           4       0.91      0.98      0.94        89\n",
      "\n",
      "    accuracy                           0.94       530\n",
      "   macro avg       0.94      0.94      0.94       530\n",
      "weighted avg       0.94      0.94      0.94       530\n",
      "\n"
     ]
    }
   ],
   "source": [
    "print(classification_report(y_test,KNN_predictions))"
   ]
  },
  {
   "cell_type": "code",
   "execution_count": null,
   "id": "7baa03ea-24ef-4687-b5f5-707083a88195",
   "metadata": {},
   "outputs": [],
   "source": []
  },
  {
   "cell_type": "code",
   "execution_count": null,
   "id": "7087dac8-110b-400b-91c6-3f1db9aeb609",
   "metadata": {},
   "outputs": [],
   "source": []
  },
  {
   "cell_type": "code",
   "execution_count": null,
   "id": "f517c314-d7fe-4fad-954d-c39e68b64ba2",
   "metadata": {},
   "outputs": [],
   "source": []
  },
  {
   "cell_type": "code",
   "execution_count": null,
   "id": "d55e2887-dfba-4272-8b77-9f328a5fb361",
   "metadata": {},
   "outputs": [],
   "source": []
  },
  {
   "cell_type": "code",
   "execution_count": null,
   "id": "9e3286d0-3313-4a4f-9bc2-9af7b1cdbe57",
   "metadata": {},
   "outputs": [],
   "source": []
  }
 ],
 "metadata": {
  "kernelspec": {
   "display_name": "kernel2",
   "language": "python",
   "name": "kernel2"
  },
  "language_info": {
   "codemirror_mode": {
    "name": "ipython",
    "version": 3
   },
   "file_extension": ".py",
   "mimetype": "text/x-python",
   "name": "python",
   "nbconvert_exporter": "python",
   "pygments_lexer": "ipython3",
   "version": "3.11.5"
  }
 },
 "nbformat": 4,
 "nbformat_minor": 5
}
